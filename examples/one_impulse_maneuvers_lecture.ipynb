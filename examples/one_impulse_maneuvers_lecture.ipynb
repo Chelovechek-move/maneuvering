{
 "cells": [
  {
   "cell_type": "code",
   "id": "initial_id",
   "metadata": {
    "collapsed": true,
    "ExecuteTime": {
     "end_time": "2025-10-14T09:00:40.835661Z",
     "start_time": "2025-10-14T09:00:40.832922Z"
    }
   },
   "source": "# %matplotlib qt",
   "outputs": [],
   "execution_count": 1
  },
  {
   "metadata": {
    "ExecuteTime": {
     "end_time": "2025-10-14T09:00:41.311858Z",
     "start_time": "2025-10-14T09:00:40.850295Z"
    }
   },
   "cell_type": "code",
   "source": [
    "from __future__ import annotations\n",
    "\n",
    "import math\n",
    "import numpy as np\n",
    "import matplotlib.pyplot as plt\n",
    "from matplotlib import cm\n",
    "from matplotlib.colors import Normalize\n",
    "from mpl_toolkits.mplot3d import Axes3D  # noqa: F401 (нужно для 3D)\n",
    "\n",
    "from maneuvering.types import Scalar\n",
    "from maneuvering.orbit.keplerian import Kep, KepTrue\n",
    "from maneuvering.utils.math_tools import normalize, normalize_angle, solve_acos_bsin_c_eq_0\n",
    "from maneuvering.orbit.convert_kep_cart import convert_kep_true_to_cart\n",
    "from maneuvering.utils.normal_vector import normal_vector\n",
    "from maneuvering.utils.periapsis_vector import periapsis_vector"
   ],
   "id": "6af88d332fa2225b",
   "outputs": [],
   "execution_count": 2
  },
  {
   "metadata": {
    "ExecuteTime": {
     "end_time": "2025-10-14T09:00:41.314958Z",
     "start_time": "2025-10-14T09:00:41.312905Z"
    }
   },
   "cell_type": "code",
   "source": [
    "deg = math.pi / 180.0\n",
    "mu = 3.9860044158e14"
   ],
   "id": "9a44b4ccbc224b9",
   "outputs": [],
   "execution_count": 3
  },
  {
   "metadata": {
    "ExecuteTime": {
     "end_time": "2025-10-14T09:00:41.323509Z",
     "start_time": "2025-10-14T09:00:41.316021Z"
    }
   },
   "cell_type": "code",
   "source": [
    "def p(a: float, e: float) -> float:\n",
    "    return a * (1.0 - e * e)"
   ],
   "id": "2647cf3737a5ad52",
   "outputs": [],
   "execution_count": 4
  },
  {
   "metadata": {
    "ExecuteTime": {
     "end_time": "2025-10-14T09:00:41.330666Z",
     "start_time": "2025-10-14T09:00:41.324737Z"
    }
   },
   "cell_type": "code",
   "source": [
    "def a_coef(o1: Kep, o2: Kep) -> float:\n",
    "    p1 = p(o1.a, o1.e)\n",
    "    p2 = p(o2.a, o2.e)\n",
    "    dw = o2.w - o1.w\n",
    "    return o2.e * p1 * math.cos(dw) - o1.e * p2"
   ],
   "id": "cdad6bee2a241b30",
   "outputs": [],
   "execution_count": 5
  },
  {
   "metadata": {
    "ExecuteTime": {
     "end_time": "2025-10-14T09:00:41.339126Z",
     "start_time": "2025-10-14T09:00:41.331514Z"
    }
   },
   "cell_type": "code",
   "source": [
    "def b_coef(o1: Kep, o2: Kep) -> float:\n",
    "    p1 = p(o1.a, o1.e)\n",
    "    dw = o2.w - o1.w\n",
    "    return o2.e * p1 * math.sin(dw)"
   ],
   "id": "ec1768e4d3267421",
   "outputs": [],
   "execution_count": 6
  },
  {
   "metadata": {
    "ExecuteTime": {
     "end_time": "2025-10-14T09:00:41.346150Z",
     "start_time": "2025-10-14T09:00:41.340004Z"
    }
   },
   "cell_type": "code",
   "source": [
    "def c_coef(o1: Kep, o2: Kep) -> float:\n",
    "    return p(o1.a, o1.e) - p(o2.a, o2.e)"
   ],
   "id": "755326393999d2aa",
   "outputs": [],
   "execution_count": 7
  },
  {
   "metadata": {},
   "cell_type": "markdown",
   "source": [
    "### Компланарный одноимпульсный переход\n",
    "Example 2.1 Single-Impulse Coplanar Transfer"
   ],
   "id": "f9fc65ae61a9e2d8"
  },
  {
   "metadata": {
    "ExecuteTime": {
     "end_time": "2025-10-14T09:00:41.353186Z",
     "start_time": "2025-10-14T09:00:41.346896Z"
    }
   },
   "cell_type": "code",
   "source": [
    "o1 = Kep(a=10000e3, e=0.1, w=20*deg, i=0*deg, raan=0*deg)\n",
    "o2 = Kep(a=12000e3, e=0.35, w=90*deg, i=0*deg, raan=0*deg)"
   ],
   "id": "73eaed4fd3386137",
   "outputs": [],
   "execution_count": 8
  },
  {
   "metadata": {
    "ExecuteTime": {
     "end_time": "2025-10-14T09:00:41.361962Z",
     "start_time": "2025-10-14T09:00:41.354383Z"
    }
   },
   "cell_type": "code",
   "source": [
    "nu1_arr = solve_acos_bsin_c_eq_0(a_coef(o1, o2), b_coef(o1, o2), c_coef(o1, o2))\n",
    "nu2_arr = [nu1 - (o2.w - o1.w) for nu1 in nu1_arr]\n",
    "dw = o2.w - o1.w\n",
    "for nu1, nu2 in nu1_arr, nu2_arr:\n",
    "    print(f\"nu1 = {nu1 / deg} deg, nu2 = {nu2 / deg}\")"
   ],
   "id": "448c011b6580b4e1",
   "outputs": [
    {
     "name": "stdout",
     "output_type": "stream",
     "text": [
      "nu1 = 8.82379742388592 deg, nu2 = 166.5296847188247\n",
      "nu1 = -61.17620257611408 deg, nu2 = 96.52968471882471\n"
     ]
    }
   ],
   "execution_count": 9
  },
  {
   "metadata": {},
   "cell_type": "markdown",
   "source": "Первая точка пересечения",
   "id": "8a4a0ef0d8cbbf99"
  },
  {
   "metadata": {
    "ExecuteTime": {
     "end_time": "2025-10-14T09:00:41.369268Z",
     "start_time": "2025-10-14T09:00:41.362625Z"
    }
   },
   "cell_type": "code",
   "source": [
    "pos11 = KepTrue(a=10000e3, e=0.1, w=20*deg, i=0*deg, raan=0*deg, nu=nu1_arr[0])\n",
    "pos21 = KepTrue(a=12000e3, e=0.35, w=90*deg, i=0*deg, raan=0*deg, nu=nu2_arr[0])"
   ],
   "id": "15afdd82c3139467",
   "outputs": [],
   "execution_count": 10
  },
  {
   "metadata": {
    "ExecuteTime": {
     "end_time": "2025-10-14T09:00:41.377599Z",
     "start_time": "2025-10-14T09:00:41.371119Z"
    }
   },
   "cell_type": "code",
   "source": [
    "pos11_rv = convert_kep_true_to_cart(pos11, mu)\n",
    "pos21_rv = convert_kep_true_to_cart(pos21, mu)\n",
    "print(pos11_rv)\n",
    "print(pos21_rv)"
   ],
   "id": "19500c80e885113",
   "outputs": [
    {
     "name": "stdout",
     "output_type": "stream",
     "text": [
      "Cart(r=array([7893451.41355674, 4343731.96423652,       0.        ]), v=array([-3276.19629407,  6155.40948053,     0.        ]))\n",
      "Cart(r=array([7893451.41355674, 4343731.96423652,       0.        ]), v=array([-5119.63984404,  5390.28353527,     0.        ]))\n"
     ]
    }
   ],
   "execution_count": 11
  },
  {
   "metadata": {
    "ExecuteTime": {
     "end_time": "2025-10-14T09:00:41.385634Z",
     "start_time": "2025-10-14T09:00:41.378362Z"
    }
   },
   "cell_type": "code",
   "source": [
    "dv1 = pos21_rv.v - pos11_rv.v \n",
    "print(dv1)\n",
    "print(np.linalg.norm(dv1))"
   ],
   "id": "3bebf23ba1fa0f0",
   "outputs": [
    {
     "name": "stdout",
     "output_type": "stream",
     "text": [
      "[-1843.44354997  -765.12594526     0.        ]\n",
      "1995.9212995586954\n"
     ]
    }
   ],
   "execution_count": 12
  },
  {
   "metadata": {},
   "cell_type": "markdown",
   "source": "Вторая точка пересечения",
   "id": "5bd27b2dee1aa5ae"
  },
  {
   "metadata": {
    "ExecuteTime": {
     "end_time": "2025-10-14T09:00:41.392658Z",
     "start_time": "2025-10-14T09:00:41.386565Z"
    }
   },
   "cell_type": "code",
   "source": [
    "pos12 = KepTrue(a=10000e3, e=0.1, w=20*deg, i=0*deg, raan=0*deg, nu=nu1_arr[1])\n",
    "pos22 = KepTrue(a=12000e3, e=0.35, w=90*deg, i=0*deg, raan=0*deg, nu=nu2_arr[1])"
   ],
   "id": "219a62ac1f3a58ef",
   "outputs": [],
   "execution_count": 13
  },
  {
   "metadata": {
    "ExecuteTime": {
     "end_time": "2025-10-14T09:00:41.401637Z",
     "start_time": "2025-10-14T09:00:41.393281Z"
    }
   },
   "cell_type": "code",
   "source": [
    "pos12_rv = convert_kep_true_to_cart(pos12, mu)\n",
    "pos22_rv = convert_kep_true_to_cart(pos22, mu)\n",
    "print(pos12_rv)\n",
    "print(pos22_rv)"
   ],
   "id": "358ae84cce50e914",
   "outputs": [
    {
     "name": "stdout",
     "output_type": "stream",
     "text": [
      "Cart(r=array([-10895341.25985329,  -1247085.78318032,        -0.        ]), v=array([  504.55154674, -5707.86391034,    -0.        ]))\n",
      "Cart(r=array([-10895341.25985329,  -1247085.78318032,        -0.        ]), v=array([-1453.73553409, -6112.6325239 ,     0.        ]))\n"
     ]
    }
   ],
   "execution_count": 14
  },
  {
   "metadata": {
    "ExecuteTime": {
     "end_time": "2025-10-14T09:00:41.416958Z",
     "start_time": "2025-10-14T09:00:41.414817Z"
    }
   },
   "cell_type": "code",
   "source": [
    "dv2 = pos22_rv.v - pos12_rv.v \n",
    "print(dv2)\n",
    "print(np.linalg.norm(dv2))"
   ],
   "id": "e77d0bc47bd78248",
   "outputs": [
    {
     "name": "stdout",
     "output_type": "stream",
     "text": [
      "[-1958.28708083  -404.76861356     0.        ]\n",
      "1999.6814549970968\n"
     ]
    }
   ],
   "execution_count": 15
  },
  {
   "metadata": {
    "ExecuteTime": {
     "end_time": "2025-10-14T09:00:41.463116Z",
     "start_time": "2025-10-14T09:00:41.461776Z"
    }
   },
   "cell_type": "code",
   "source": "",
   "id": "a2a9b670ce3f4b51",
   "outputs": [],
   "execution_count": 15
  },
  {
   "metadata": {},
   "cell_type": "markdown",
   "source": [
    "### Некомпланарный одноимпульсный переход\n",
    "Example 2.2 Orbit Transfer at the Intersection of the Planes"
   ],
   "id": "bb37532c309de7a6"
  },
  {
   "metadata": {
    "ExecuteTime": {
     "end_time": "2025-10-14T09:00:41.636395Z",
     "start_time": "2025-10-14T09:00:41.633860Z"
    }
   },
   "cell_type": "code",
   "source": [
    "o1 = Kep(a=18654.3640e3, e=0.28969592, w=265.55428*deg, i=35.62718*deg, raan=89.44357*deg)\n",
    "o2 = Kep(a=20679.0085e3, e=0.16932267, w=234.60634*deg, i=38.46693*deg, raan=107.25881*deg)"
   ],
   "id": "e67fb1eb5b0ff88e",
   "outputs": [],
   "execution_count": 16
  },
  {
   "metadata": {
    "ExecuteTime": {
     "end_time": "2025-10-14T09:00:41.684264Z",
     "start_time": "2025-10-14T09:00:41.681041Z"
    }
   },
   "cell_type": "code",
   "source": [
    "h1 = normal_vector(o1.i, o1.raan)\n",
    "h2 = normal_vector(o2.i, o2.raan)\n",
    "print(h1)\n",
    "print(h2)"
   ],
   "id": "c3ccbdba279397fe",
   "outputs": [
    {
     "name": "stdout",
     "output_type": "stream",
     "text": [
      "[ 0.58248115 -0.00565696  0.81282452]\n",
      "[0.59405403 0.18455884 0.78296733]\n"
     ]
    }
   ],
   "execution_count": 17
  },
  {
   "metadata": {
    "ExecuteTime": {
     "end_time": "2025-10-14T09:00:41.749708Z",
     "start_time": "2025-10-14T09:00:41.747542Z"
    }
   },
   "cell_type": "code",
   "source": [
    "I = normalize(np.cross(h1, h2))\n",
    "print(I)"
   ],
   "id": "fab39071880ebd0a",
   "outputs": [
    {
     "name": "stdout",
     "output_type": "stream",
     "text": [
      "[-0.80442056  0.13957782  0.57743017]\n"
     ]
    }
   ],
   "execution_count": 18
  },
  {
   "metadata": {
    "ExecuteTime": {
     "end_time": "2025-10-14T09:00:41.782347Z",
     "start_time": "2025-10-14T09:00:41.780062Z"
    }
   },
   "cell_type": "code",
   "source": [
    "p1 = periapsis_vector(o1)\n",
    "p2 = periapsis_vector(o2)\n",
    "print(p1)\n",
    "print(p2)"
   ],
   "id": "4a2954a83db77a78",
   "outputs": [
    {
     "name": "stdout",
     "output_type": "stream",
     "text": [
      "[ 0.80958792 -0.08538086 -0.58075598]\n",
      "[ 0.7813694  -0.36374561 -0.50710057]\n"
     ]
    }
   ],
   "execution_count": 19
  },
  {
   "metadata": {
    "ExecuteTime": {
     "end_time": "2025-10-14T09:00:41.859268Z",
     "start_time": "2025-10-14T09:00:41.856917Z"
    }
   },
   "cell_type": "code",
   "source": [
    "def angle_between(a: np.asarray, b: np.asarray) -> float:\n",
    "    \"\"\"\n",
    "    Угол между 3D-векторами a и b в радианах (диапазон [0, π]).\n",
    "    Бросает ValueError, если хотя бы один вектор нулевой.\n",
    "    \"\"\"\n",
    "    na = np.linalg.norm(a)\n",
    "    nb = np.linalg.norm(b)\n",
    "    if na == 0.0 or nb == 0.0:\n",
    "        raise ValueError(\"Angle is undefined for zero-length vectors.\")\n",
    "    dot = float(np.dot(a, b))\n",
    "    cross_norm = float(np.linalg.norm(np.cross(a, b)))\n",
    "    return np.arctan2(cross_norm, dot)"
   ],
   "id": "75cdc573d91d5073",
   "outputs": [],
   "execution_count": 20
  },
  {
   "metadata": {
    "ExecuteTime": {
     "end_time": "2025-10-14T09:00:41.877880Z",
     "start_time": "2025-10-14T09:00:41.876084Z"
    }
   },
   "cell_type": "code",
   "source": [
    "def r(a: float, e: float, nu: float) -> float:\n",
    "    return p(a, e) / (1.0 + e * math.cos(nu))"
   ],
   "id": "da0a6e512f31e857",
   "outputs": [],
   "execution_count": 21
  },
  {
   "metadata": {},
   "cell_type": "markdown",
   "source": "Первая точка",
   "id": "aa04827eef3b781"
  },
  {
   "metadata": {
    "ExecuteTime": {
     "end_time": "2025-10-14T09:00:41.906248Z",
     "start_time": "2025-10-14T09:00:41.902513Z"
    }
   },
   "cell_type": "code",
   "source": [
    "nu11 = angle_between(I, p1)\n",
    "nu21 = angle_between(-I, p2) + np.pi\n",
    "print(nu11 / deg)\n",
    "print(nu21 / deg)"
   ],
   "id": "cf1eb757dae8bb5f",
   "outputs": [
    {
     "name": "stdout",
     "output_type": "stream",
     "text": [
      "176.87445843164463\n",
      "193.55739152937653\n"
     ]
    }
   ],
   "execution_count": 22
  },
  {
   "metadata": {
    "ExecuteTime": {
     "end_time": "2025-10-14T09:00:41.982213Z",
     "start_time": "2025-10-14T09:00:41.979775Z"
    }
   },
   "cell_type": "code",
   "source": [
    "r11 = r(o1.a, o1.e, nu11)\n",
    "r21 = r(o2.a, o2.e, nu21)\n",
    "print(r11)\n",
    "print(r21)"
   ],
   "id": "babbeba47370f990",
   "outputs": [
    {
     "name": "stdout",
     "output_type": "stream",
     "text": [
      "24043870.00480024\n",
      "24043869.237595744\n"
     ]
    }
   ],
   "execution_count": 23
  },
  {
   "metadata": {
    "ExecuteTime": {
     "end_time": "2025-10-14T09:00:42.017677Z",
     "start_time": "2025-10-14T09:00:42.015228Z"
    }
   },
   "cell_type": "code",
   "source": [
    "pos1 = KepTrue(a=18654.3640e3, e=0.28969592, w=265.55428*deg, i=35.62718*deg, raan=89.44357*deg, nu=nu11)\n",
    "pos2 = KepTrue(a=20679.0085e3, e=0.16932267, w=234.60634*deg, i=38.46693*deg, raan=107.25881*deg, nu=nu21)"
   ],
   "id": "3ed97fb736eca15e",
   "outputs": [],
   "execution_count": 24
  },
  {
   "metadata": {
    "ExecuteTime": {
     "end_time": "2025-10-14T09:00:42.106054Z",
     "start_time": "2025-10-14T09:00:42.102572Z"
    }
   },
   "cell_type": "code",
   "source": [
    "pos1_rv = convert_kep_true_to_cart(pos1, mu)\n",
    "pos2_rv = convert_kep_true_to_cart(pos2, mu)\n",
    "print(pos1_rv)\n",
    "print(pos2_rv)"
   ],
   "id": "d07dc22339d22f0a",
   "outputs": [
    {
     "name": "stdout",
     "output_type": "stream",
     "text": [
      "Cart(r=array([-19341383.29548689,   3355990.90081272,  13883655.9341715 ]), v=array([ -462.01211884, -3388.27473122,   307.50302998]))\n",
      "Cart(r=array([-19341382.67833183,   3355990.79372798,  13883655.49116448]), v=array([  132.1330072 , -3645.13356918,   758.96840333]))\n"
     ]
    }
   ],
   "execution_count": 25
  },
  {
   "metadata": {
    "ExecuteTime": {
     "end_time": "2025-10-14T09:00:42.162654Z",
     "start_time": "2025-10-14T09:00:42.160536Z"
    }
   },
   "cell_type": "code",
   "source": [
    "dv = pos2_rv.v - pos1_rv.v\n",
    "print(dv)\n",
    "print(np.linalg.norm(dv))"
   ],
   "id": "2e3b863ab3f382f2",
   "outputs": [
    {
     "name": "stdout",
     "output_type": "stream",
     "text": [
      "[ 594.14512605 -256.85883796  451.46537334]\n",
      "789.1805096264409\n"
     ]
    }
   ],
   "execution_count": 26
  },
  {
   "metadata": {},
   "cell_type": "markdown",
   "source": "Вторая точка",
   "id": "1af7e0af4ef5c73"
  },
  {
   "metadata": {
    "ExecuteTime": {
     "end_time": "2025-10-14T09:00:42.189301Z",
     "start_time": "2025-10-14T09:00:42.186865Z"
    }
   },
   "cell_type": "code",
   "source": [
    "nu12 = angle_between(I, p1) + np.pi\n",
    "nu22 = angle_between(-I, p2)\n",
    "print(nu12 / deg)\n",
    "print(nu22 / deg)"
   ],
   "id": "384e36484596b398",
   "outputs": [
    {
     "name": "stdout",
     "output_type": "stream",
     "text": [
      "356.87445843164465\n",
      "13.557391529376547\n"
     ]
    }
   ],
   "execution_count": 27
  },
  {
   "metadata": {
    "ExecuteTime": {
     "end_time": "2025-10-14T09:00:42.247296Z",
     "start_time": "2025-10-14T09:00:42.245190Z"
    }
   },
   "cell_type": "code",
   "source": [
    "r12 = r(o1.a, o1.e, nu12)\n",
    "r22 = r(o2.a, o2.e, nu22)\n",
    "print(r12)\n",
    "print(r22)"
   ],
   "id": "7658b85aabb88ffc",
   "outputs": [
    {
     "name": "stdout",
     "output_type": "stream",
     "text": [
      "13254699.725036083\n",
      "17247173.82146143\n"
     ]
    }
   ],
   "execution_count": 28
  },
  {
   "metadata": {
    "ExecuteTime": {
     "end_time": "2025-10-14T09:00:42.278852Z",
     "start_time": "2025-10-14T09:00:42.277561Z"
    }
   },
   "cell_type": "code",
   "source": "",
   "id": "60d0f099e213c80b",
   "outputs": [],
   "execution_count": 28
  },
  {
   "metadata": {},
   "cell_type": "markdown",
   "source": "### Коррекция большой полуоси и эксцентриситета",
   "id": "385ca0b9f1544838"
  },
  {
   "metadata": {
    "ExecuteTime": {
     "end_time": "2025-10-14T09:00:42.350214Z",
     "start_time": "2025-10-14T09:00:42.346792Z"
    }
   },
   "cell_type": "code",
   "source": [
    "def solve_true_anomaly(r: float, a: float, e: float, tol: float = 1e-12) -> List[float]:\n",
    "    \"\"\"\n",
    "    Решает (2.13) для ν2 при заданных r, a2, e2.\n",
    "    Возвращает список [ν2_pos, ν2_neg] (рад) — положительное и отрицательное решения.\n",
    "    Если решений нет (из-за |rhs|>1), возвращает [].\n",
    "    Если e2~0, бросает ValueError (круговая орбита: ν2 неопределён).\n",
    "    \"\"\"\n",
    "    if abs(e) < tol:\n",
    "        raise ValueError(\"Equation is undefined for nearly circular target orbit.\")\n",
    "\n",
    "    rhs = (a / r) * (1.0 - e * e) - 1.0\n",
    "    u = rhs / e  # значение cos ν2\n",
    "\n",
    "    if u > 1.0 + tol or u < -1.0 - tol:\n",
    "        return []\n",
    "    # защита от округления\n",
    "    u = max(-1.0, min(1.0, u))\n",
    "\n",
    "    y = math.acos(u)               # y∈[0,π]\n",
    "    return [ y, -y ]               # ν2a>0 и ν2b<0"
   ],
   "id": "22bb61a3e0cfa882",
   "outputs": [],
   "execution_count": 29
  },
  {
   "metadata": {
    "ExecuteTime": {
     "end_time": "2025-10-14T09:00:42.378962Z",
     "start_time": "2025-10-14T09:00:42.377051Z"
    }
   },
   "cell_type": "code",
   "source": [
    "pos1 = KepTrue(a=26_000e3, e=0.6, w=250*deg, i=64*deg, raan=0*deg, nu=60*deg)\n",
    "a2 = 26_554e3\n",
    "e2 = 0.7"
   ],
   "id": "f850f3b96cdf70a4",
   "outputs": [],
   "execution_count": 30
  },
  {
   "metadata": {
    "ExecuteTime": {
     "end_time": "2025-10-14T09:00:42.458280Z",
     "start_time": "2025-10-14T09:00:42.455138Z"
    }
   },
   "cell_type": "code",
   "source": [
    "u = pos1.w + pos1.nu\n",
    "dist = r(pos1.a, pos1.e, pos1.nu)\n",
    "nu1, nu2 = solve_true_anomaly(dist, a2, e2)\n",
    "nu1 = normalize_angle(nu1)\n",
    "nu2 = normalize_angle(nu2)\n",
    "w1 = normalize_angle(u - nu1)\n",
    "w2 = normalize_angle(u - nu2)\n",
    "print(f\"w1 = {w1 / deg}, w2 = {w2 / deg}\")\n",
    "print(f\"nu1 = {nu1 / deg}, nu2 = {nu2 / deg}\")"
   ],
   "id": "c3e9e72fb97011b5",
   "outputs": [
    {
     "name": "stdout",
     "output_type": "stream",
     "text": [
      "w1 = 224.7537117933927, w2 = 35.24628820660733\n",
      "nu1 = 85.2462882066073, nu2 = 274.75371179339265\n"
     ]
    }
   ],
   "execution_count": 31
  },
  {
   "metadata": {
    "ExecuteTime": {
     "end_time": "2025-10-14T09:00:42.498729Z",
     "start_time": "2025-10-14T09:00:42.496574Z"
    }
   },
   "cell_type": "code",
   "source": [
    "pos21 = KepTrue(a=a2, e=e2, w=w1, i=pos1.i, raan=pos1.raan, nu=nu1)\n",
    "pos22 = KepTrue(a=a2, e=e2, w=w2, i=pos1.i, raan=pos1.raan, nu=nu2)"
   ],
   "id": "d0bce9d1c26bc55d",
   "outputs": [],
   "execution_count": 32
  },
  {
   "metadata": {
    "ExecuteTime": {
     "end_time": "2025-10-14T09:00:42.574759Z",
     "start_time": "2025-10-14T09:00:42.570541Z"
    }
   },
   "cell_type": "code",
   "source": [
    "pos1_rv = convert_kep_true_to_cart(pos1, mu)\n",
    "pos21_rv = convert_kep_true_to_cart(pos21, mu)\n",
    "pos22_rv = convert_kep_true_to_cart(pos22, mu)\n",
    "print(pos1_rv)\n",
    "print(pos21_rv)\n",
    "print(pos22_rv)"
   ],
   "id": "6eba82b5b5050ab7",
   "outputs": [
    {
     "name": "stdout",
     "output_type": "stream",
     "text": [
      "Cart(r=array([ 8227681.4039877 , -4298390.79707477, -8813007.1638515 ]), v=array([6508.75846053,  938.83054181, 1924.88786646]))\n",
      "Cart(r=array([ 8227681.4039877 , -4298390.79707477, -8813007.1638515 ]), v=array([6829.76180413,  346.48932102,  710.40838595]))\n",
      "Cart(r=array([ 8227681.4039877 , -4298390.79707477, -8813007.1638515 ]), v=array([1964.36946134, 2888.31813567, 5921.92976926]))\n"
     ]
    }
   ],
   "execution_count": 33
  },
  {
   "metadata": {
    "ExecuteTime": {
     "end_time": "2025-10-14T09:00:42.604521Z",
     "start_time": "2025-10-14T09:00:42.600688Z"
    }
   },
   "cell_type": "code",
   "source": [
    "dv1 = pos21_rv.v - pos1_rv.v\n",
    "dv2 = pos22_rv.v - pos1_rv.v\n",
    "print(dv1)\n",
    "print(np.linalg.norm(dv1))\n",
    "print(dv2)\n",
    "print(np.linalg.norm(dv2))"
   ],
   "id": "31267f3d7011be51",
   "outputs": [
    {
     "name": "stdout",
     "output_type": "stream",
     "text": [
      "[  321.00334359  -592.34122079 -1214.47948051]\n",
      "1388.8382472511737\n",
      "[-4544.38899919  1949.48759386  3997.0419028 ]\n",
      "6358.326605902053\n"
     ]
    }
   ],
   "execution_count": 34
  },
  {
   "metadata": {
    "ExecuteTime": {
     "end_time": "2025-10-14T09:00:42.674398Z",
     "start_time": "2025-10-14T09:00:42.672861Z"
    }
   },
   "cell_type": "code",
   "source": "",
   "id": "525beea20c5cc165",
   "outputs": [],
   "execution_count": 34
  },
  {
   "metadata": {},
   "cell_type": "markdown",
   "source": "### Оптимизация коррекции большой полуоси и эксцентриситета",
   "id": "248c485b6a3374b"
  },
  {
   "metadata": {
    "ExecuteTime": {
     "end_time": "2025-10-14T09:00:42.730916Z",
     "start_time": "2025-10-14T09:00:42.726901Z"
    }
   },
   "cell_type": "code",
   "source": [
    "def a_e_dV(o1: Keptrue, a2: float, e2: float, mu: float):\n",
    "    u = o1.w + o1.nu\n",
    "    dist = r(o1.a, o1.e, o1.nu)\n",
    "    nu1, nu2 = solve_true_anomaly(dist, a2, e2)\n",
    "    nu1 = normalize_angle(nu1)\n",
    "    nu2 = normalize_angle(nu2)\n",
    "    w1 = normalize_angle(u - nu1)\n",
    "    w2 = normalize_angle(u - nu2)\n",
    "    \n",
    "    o21 = KepTrue(a=a2, e=e2, w=w1, i=o1.i, raan=o1.raan, nu=nu1)\n",
    "    o22 = KepTrue(a=a2, e=e2, w=w2, i=o1.i, raan=o1.raan, nu=nu2)\n",
    "    \n",
    "    o1_rv = convert_kep_true_to_cart(o1, mu)\n",
    "    o21_rv = convert_kep_true_to_cart(o21, mu)\n",
    "    o22_rv = convert_kep_true_to_cart(o22, mu)\n",
    "    \n",
    "    dv1 = o21_rv.v - o1_rv.v\n",
    "    dv2 = o22_rv.v - o1_rv.v\n",
    "    \n",
    "    return np.linalg.norm(dv1), np.linalg.norm(dv2)"
   ],
   "id": "634ef4b2c0908a8a",
   "outputs": [],
   "execution_count": 35
  },
  {
   "metadata": {
    "ExecuteTime": {
     "end_time": "2025-10-14T09:00:42.835010Z",
     "start_time": "2025-10-14T09:00:42.797001Z"
    }
   },
   "cell_type": "code",
   "source": [
    "a1, e1, i1, raan1, w1 = 26_000e3, 0.6, 64*deg, 0.0*deg, 250*deg\n",
    "a2, e2 = 26_554e3, 0.7\n",
    "\n",
    "N = 720  # число точек по истинной аномалии\n",
    "nus = np.linspace(0.0, 2.0*math.pi, N, endpoint=False)\n",
    "\n",
    "xs_deg = np.rad2deg(nus)\n",
    "dvA = np.empty(N)\n",
    "dvB = np.empty(N)\n",
    "\n",
    "for k, nu in enumerate(nus):\n",
    "    o1 = KepTrue(a=a1, e=e1, i=i1, raan=raan1, w=w1, nu=nu)\n",
    "    d1, d2 = a_e_dV(o1, a2, e2, mu)\n",
    "    dvA[k] = d1\n",
    "    dvB[k] = d2"
   ],
   "id": "3ba08d173397a634",
   "outputs": [],
   "execution_count": 36
  },
  {
   "metadata": {
    "ExecuteTime": {
     "end_time": "2025-10-14T09:00:42.839005Z",
     "start_time": "2025-10-14T09:00:42.836372Z"
    }
   },
   "cell_type": "code",
   "source": [
    "tick_params_font_size = 18\n",
    "label_font_size = 22"
   ],
   "id": "f782b0b6b2b09be",
   "outputs": [],
   "execution_count": 37
  },
  {
   "metadata": {
    "ExecuteTime": {
     "end_time": "2025-10-14T09:00:43.129870Z",
     "start_time": "2025-10-14T09:00:42.891979Z"
    }
   },
   "cell_type": "code",
   "source": [
    "fig, ax = plt.subplots()\n",
    "ax.scatter(xs_deg, dvA, s=12)\n",
    "ax.scatter(xs_deg, dvB, s=12)\n",
    "ax.set_xlabel(r\"$\\nu_1$ (deg)\", fontsize=label_font_size)\n",
    "ax.set_ylabel(r\"$\\|\\Delta v\\|$ (m/s)\", fontsize=label_font_size)\n",
    "ax.grid(True, alpha=0.7)\n",
    "ax.tick_params(axis='both', which='major', labelsize=tick_params_font_size)\n",
    "plt.show()"
   ],
   "id": "dbebcbe496a65280",
   "outputs": [
    {
     "data": {
      "text/plain": [
       "<Figure size 640x480 with 1 Axes>"
      ],
      "image/png": "[encoded data removed]"
     },
     "metadata": {},
     "output_type": "display_data"
    }
   ],
   "execution_count": 38
  },
  {
   "metadata": {
    "ExecuteTime": {
     "end_time": "2025-10-14T09:00:43.132105Z",
     "start_time": "2025-10-14T09:00:43.130755Z"
    }
   },
   "cell_type": "code",
   "source": "",
   "id": "9568facd765e7cdd",
   "outputs": [],
   "execution_count": 38
  },
  {
   "metadata": {},
   "cell_type": "markdown",
   "source": "### Коррекция большой полуоси и аргумента перицентра",
   "id": "f73c0a369958c2ac"
  },
  {
   "metadata": {
    "ExecuteTime": {
     "end_time": "2025-10-14T09:00:43.135625Z",
     "start_time": "2025-10-14T09:00:43.132677Z"
    }
   },
   "cell_type": "code",
   "source": [
    "def solve_quadratic(a: float, b: float, c: float, tol: float = 1e-15) -> list[float]:\n",
    "    \"\"\"\n",
    "    Решает a x^2 + b x + c = 0 в действительных числах.\n",
    "    Возвращает 0, 1 или 2 корня (только вещественные). Если D<0 -> [].\n",
    "\n",
    "    Численно устойчивый вариант (Kahan):\n",
    "      q = -0.5 * (b + sign(b)*sqrt(D)), затем x1 = q/a, x2 = c/q.\n",
    "    \"\"\"\n",
    "    # Линейный (или вырожденный) случай\n",
    "    if abs(a) < tol:\n",
    "        if abs(b) < tol:\n",
    "            return []  # либо беск. много, если |c|<tol; тут считаем, что решений нет\n",
    "        return [-c / b]\n",
    "\n",
    "    D = b*b - 4.0*a*c\n",
    "    if D < 0.0:\n",
    "        return []  # нет действительных решений\n",
    "\n",
    "    sqrtD = math.sqrt(D)\n",
    "\n",
    "    # Устойчивое вычисление\n",
    "    q = -0.5 * (b + (sqrtD if b >= 0 else -sqrtD))\n",
    "    x1 = q / a\n",
    "    # Если q почти ноль, используем стандартную формулу для второго корня\n",
    "    x2 = c / q if abs(q) > tol else (-b / (2.0*a))\n",
    "\n",
    "    # Слить почти совпадающие корни\n",
    "    if abs(x1 - x2) < tol:\n",
    "        return [0.5*(x1 + x2)]\n",
    "    return [x1, x2]"
   ],
   "id": "3366962f8dab5ef0",
   "outputs": [],
   "execution_count": 39
  },
  {
   "metadata": {
    "ExecuteTime": {
     "end_time": "2025-10-14T09:00:43.144314Z",
     "start_time": "2025-10-14T09:00:43.137247Z"
    }
   },
   "cell_type": "code",
   "source": [
    "pos1 = KepTrue(a=26_222e3, e=0.7, w=266*deg, i=63.434*deg, raan=0*deg, nu=222*deg)\n",
    "a2 = 26_554e3\n",
    "w2 = 270*deg"
   ],
   "id": "329a79583c366d37",
   "outputs": [],
   "execution_count": 40
  },
  {
   "metadata": {
    "ExecuteTime": {
     "end_time": "2025-10-14T09:00:43.151827Z",
     "start_time": "2025-10-14T09:00:43.145066Z"
    }
   },
   "cell_type": "code",
   "source": [
    "dist = r(pos1.a, pos1.e, pos1.nu)\n",
    "u = pos1.w + pos1.nu\n",
    "nu2 = u - w2\n",
    "print(f\"nu2 = {nu2 / deg}\")"
   ],
   "id": "4309df7a3ba3b5b6",
   "outputs": [
    {
     "name": "stdout",
     "output_type": "stream",
     "text": [
      "nu2 = 217.99999999999997\n"
     ]
    }
   ],
   "execution_count": 41
  },
  {
   "metadata": {
    "ExecuteTime": {
     "end_time": "2025-10-14T09:00:43.159751Z",
     "start_time": "2025-10-14T09:00:43.152842Z"
    }
   },
   "cell_type": "code",
   "source": [
    "e21, e22 = solve_quadratic(a2, dist * math.cos(nu2), dist - a2)\n",
    "print(f\"e21 = {e21}\")\n",
    "print(f\"e22 = {e22}\")"
   ],
   "id": "f69424a0ee812479",
   "outputs": [
    {
     "name": "stdout",
     "output_type": "stream",
     "text": [
      "e21 = 0.7619724421730308\n",
      "e22 = 0.06516786701549572\n"
     ]
    }
   ],
   "execution_count": 42
  },
  {
   "metadata": {
    "ExecuteTime": {
     "end_time": "2025-10-14T09:00:43.166285Z",
     "start_time": "2025-10-14T09:00:43.160463Z"
    }
   },
   "cell_type": "code",
   "source": [
    "pos21 = KepTrue(a=a2, e=e21, w=w2, i=pos1.i, raan=pos1.raan, nu=nu2)\n",
    "pos22 = KepTrue(a=a2, e=e22, w=w2, i=pos1.i, raan=pos1.raan, nu=nu2)"
   ],
   "id": "3c03e8f603a2b1c7",
   "outputs": [],
   "execution_count": 43
  },
  {
   "metadata": {
    "ExecuteTime": {
     "end_time": "2025-10-14T09:00:43.175311Z",
     "start_time": "2025-10-14T09:00:43.166989Z"
    }
   },
   "cell_type": "code",
   "source": [
    "pos1_rv = convert_kep_true_to_cart(pos1, mu)\n",
    "pos21_rv = convert_kep_true_to_cart(pos21, mu)\n",
    "pos22_rv = convert_kep_true_to_cart(pos22, mu)\n",
    "print(pos1_rv)\n",
    "print(pos21_rv)\n",
    "print(pos22_rv)"
   ],
   "id": "2abd24d6e31a2a29",
   "outputs": [
    {
     "name": "stdout",
     "output_type": "stream",
     "text": [
      "Cart(r=array([-17160066.69191526,   9822872.75508522,  19644932.19911726]), v=array([ -489.80182678, -1622.44275447, -3244.75117445]))\n",
      "Cart(r=array([-17160066.69191527,   9822872.75508522,  19644932.19911727]), v=array([ -155.77707798, -1647.25978589, -3294.3831825 ]))\n",
      "Cart(r=array([-17160066.69191526,   9822872.75508521,  19644932.19911726]), v=array([-2806.54480275, -1069.05347157, -2138.01842799]))\n"
     ]
    }
   ],
   "execution_count": 44
  },
  {
   "metadata": {
    "ExecuteTime": {
     "end_time": "2025-10-14T09:00:43.184657Z",
     "start_time": "2025-10-14T09:00:43.176161Z"
    }
   },
   "cell_type": "code",
   "source": [
    "dv1 = pos21_rv.v - pos1_rv.v\n",
    "dv2 = pos22_rv.v - pos1_rv.v\n",
    "print(dv1)\n",
    "print(np.linalg.norm(dv1))\n",
    "print(dv2)\n",
    "print(np.linalg.norm(dv2))"
   ],
   "id": "695d1f4291d56b51",
   "outputs": [
    {
     "name": "stdout",
     "output_type": "stream",
     "text": [
      "[334.0247488  -24.81703142 -49.63200804]\n",
      "338.6026492492687\n",
      "[-2316.74297598   553.3892829   1106.73274646]\n",
      "2626.4795996279677\n"
     ]
    }
   ],
   "execution_count": 45
  },
  {
   "metadata": {
    "ExecuteTime": {
     "end_time": "2025-10-14T09:00:43.187945Z",
     "start_time": "2025-10-14T09:00:43.186243Z"
    }
   },
   "cell_type": "code",
   "source": "",
   "id": "609095344ce6683a",
   "outputs": [],
   "execution_count": 45
  },
  {
   "metadata": {},
   "cell_type": "markdown",
   "source": "### Оптимизация коррекции большой полуоси и аргумента перицентра",
   "id": "1c38d72d97ba813c"
  },
  {
   "metadata": {
    "ExecuteTime": {
     "end_time": "2025-10-14T09:00:43.207105Z",
     "start_time": "2025-10-14T09:00:43.202927Z"
    }
   },
   "cell_type": "code",
   "source": [
    "def a_w_dV(o1: Keptrue, a2: float, w2: float, mu: float, tol: float = 1e-12):\n",
    "    dist = r(o1.a, o1.e, o1.nu)\n",
    "    u = o1.w + o1.nu\n",
    "    nu2 = u - w2\n",
    "    roots = solve_quadratic(a2, dist * math.cos(nu2), dist - a2)\n",
    "    # фильтр физически допустимых эксцентриситетов\n",
    "    roots = [e for e in roots if (0.0 - tol) <= e < (1.0 - tol)]\n",
    "    \n",
    "    # состояние до манёвра\n",
    "    s1 = convert_kep_true_to_cart(o1, mu)\n",
    "\n",
    "    # подготовим два значения (могут быть NaN)\n",
    "    dv_vals = [math.nan, math.nan]\n",
    "\n",
    "    # вспомогательная функция |Δv| для данного e2\n",
    "    def dv_for_e2(e2):\n",
    "        o2_here = KepTrue(a=a2, e=e2, i=o1.i, raan=o1.raan, w=w2, nu=nu2)\n",
    "        s2 = convert_kep_true_to_cart(o2_here, mu)\n",
    "        return float(np.linalg.norm(s2.v - s1.v))\n",
    "\n",
    "    # посчитать для 1-го и 2-го корня, если есть\n",
    "    for idx in range(min(2, len(roots))):\n",
    "        dv_vals[idx] = dv_for_e2(roots[idx])\n",
    "\n",
    "    return dv_vals[0], dv_vals[1]"
   ],
   "id": "d9e7e4bb4ab619ac",
   "outputs": [],
   "execution_count": 46
  },
  {
   "metadata": {
    "ExecuteTime": {
     "end_time": "2025-10-14T09:00:43.282493Z",
     "start_time": "2025-10-14T09:00:43.255210Z"
    }
   },
   "cell_type": "code",
   "source": [
    "a1, e1, i1, raan1, w1 = 26_222e3, 0.7, 63.434 * deg, 0.0 * deg, 266 * deg\n",
    "a2, w2 = 26_554e3, 270*deg\n",
    "\n",
    "N = 720  # число точек по истинной аномалии\n",
    "nus = np.linspace(0.0, 2.0 * math.pi, N, endpoint=False)\n",
    "\n",
    "xs_deg = np.rad2deg(nus)\n",
    "dvA = np.empty(N)\n",
    "dvB = np.empty(N)\n",
    "\n",
    "for k, nu in enumerate(nus):\n",
    "    o1 = KepTrue(a=a1, e=e1, i=i1, raan=raan1, w=w1, nu=nu)\n",
    "    d1, d2 = a_w_dV(o1, a2, w2, mu)\n",
    "    dvA[k], dvB[k] = d1, d2"
   ],
   "id": "b565a970eab918ef",
   "outputs": [],
   "execution_count": 47
  },
  {
   "metadata": {
    "ExecuteTime": {
     "end_time": "2025-10-14T09:00:43.526898Z",
     "start_time": "2025-10-14T09:00:43.525205Z"
    }
   },
   "cell_type": "code",
   "source": [
    "tick_params_font_size = 18\n",
    "label_font_size = 22"
   ],
   "id": "a4b1f52b6618ef89",
   "outputs": [],
   "execution_count": 48
  },
  {
   "metadata": {
    "ExecuteTime": {
     "end_time": "2025-10-14T09:00:43.628803Z",
     "start_time": "2025-10-14T09:00:43.557598Z"
    }
   },
   "cell_type": "code",
   "source": [
    "fig, ax = plt.subplots()\n",
    "ax.scatter(xs_deg, dvA, s=12)\n",
    "ax.scatter(xs_deg, dvB, s=12)\n",
    "ax.set_xlabel(r\"$\\nu_1$ (deg)\", fontsize=label_font_size)\n",
    "ax.set_ylabel(r\"$\\|\\Delta v\\|$ (m/s)\", fontsize=label_font_size)\n",
    "ax.grid(True, alpha=0.7)\n",
    "ax.tick_params(axis='both', which='major', labelsize=tick_params_font_size)\n",
    "plt.show()"
   ],
   "id": "4f1e0329dc0da668",
   "outputs": [
    {
     "data": {
      "text/plain": [
       "<Figure size 640x480 with 1 Axes>"
      ],
      "image/png": "[encoded data removed]"
     },
     "metadata": {},
     "output_type": "display_data"
    }
   ],
   "execution_count": 49
  },
  {
   "metadata": {
    "ExecuteTime": {
     "end_time": "2025-10-14T09:00:43.630613Z",
     "start_time": "2025-10-14T09:00:43.629426Z"
    }
   },
   "cell_type": "code",
   "source": "",
   "id": "8572061a4a8fc2c3",
   "outputs": [],
   "execution_count": 49
  },
  {
   "metadata": {},
   "cell_type": "markdown",
   "source": "### Коррекция большой полуоси, эксцентриситета, долготы восходящего узла",
   "id": "6540f44ebd9a04ad"
  },
  {
   "metadata": {
    "ExecuteTime": {
     "end_time": "2025-10-14T09:00:43.674219Z",
     "start_time": "2025-10-14T09:00:43.670093Z"
    }
   },
   "cell_type": "code",
   "source": [
    "def a_e_raan_dV(o1: Keptrue, a2: float, e2: float, raan2: float, mu: float):\n",
    "    u = o1.w + o1.nu\n",
    "    dist = r(o1.a, o1.e, o1.nu)\n",
    "    nu1, nu2 = solve_true_anomaly(dist, a2, e2)\n",
    "    nu1 = normalize_angle(nu1)\n",
    "    nu2 = normalize_angle(nu2)\n",
    "    w1 = normalize_angle(u - nu1)\n",
    "    w2 = normalize_angle(u - nu2)\n",
    "    \n",
    "    o1_rv = convert_kep_true_to_cart(o1, mu)\n",
    "    \n",
    "    i2 = normalize_angle(np.arctan2(-o1_rv.r[2], o1_rv.r[0] * math.sin(raan2) - o1_rv.r[1] * math.cos(raan2)))\n",
    "\n",
    "    o21 = KepTrue(a=a2, e=e2, w=w1, i=i2, raan=raan2, nu=nu1)\n",
    "    o22 = KepTrue(a=a2, e=e2, w=w2, i=i2, raan=raan2, nu=nu2)\n",
    "\n",
    "    o21_rv = convert_kep_true_to_cart(o21, mu)\n",
    "    o22_rv = convert_kep_true_to_cart(o22, mu)\n",
    "\n",
    "    dv1 = o21_rv.v - o1_rv.v\n",
    "    dv2 = o22_rv.v - o1_rv.v\n",
    "\n",
    "    return np.linalg.norm(dv1), np.linalg.norm(dv2)"
   ],
   "id": "2cf5497828f9f00c",
   "outputs": [],
   "execution_count": 50
  },
  {
   "metadata": {
    "ExecuteTime": {
     "end_time": "2025-10-14T09:00:43.714634Z",
     "start_time": "2025-10-14T09:00:43.677303Z"
    }
   },
   "cell_type": "code",
   "source": [
    "a1, e1, i1, raan1, w1 = 26_000e3, 0.6, 64 * deg, 0.0 * deg, 250 * deg\n",
    "a2, e2, raan2 = 26_554e3, 0.7, 3.0*deg\n",
    "\n",
    "N = 720  # число точек по истинной аномалии\n",
    "nus = np.linspace(0.0, 2.0 * math.pi, N, endpoint=False)\n",
    "\n",
    "xs_deg = np.rad2deg(nus)\n",
    "dvA = np.empty(N)\n",
    "dvB = np.empty(N)\n",
    "\n",
    "for k, nu in enumerate(nus):\n",
    "    o1 = KepTrue(a=a1, e=e1, i=i1, raan=raan1, w=w1, nu=nu)\n",
    "    d1, d2 = a_e_raan_dV(o1, a2, e2, raan2, mu)\n",
    "    dvA[k] = d1\n",
    "    dvB[k] = d2"
   ],
   "id": "f33b1f73422cde9c",
   "outputs": [],
   "execution_count": 51
  },
  {
   "metadata": {
    "ExecuteTime": {
     "end_time": "2025-10-14T09:00:43.716864Z",
     "start_time": "2025-10-14T09:00:43.715393Z"
    }
   },
   "cell_type": "code",
   "source": [
    "tick_params_font_size = 18\n",
    "label_font_size = 22"
   ],
   "id": "10757b36d7a79a2c",
   "outputs": [],
   "execution_count": 52
  },
  {
   "metadata": {
    "ExecuteTime": {
     "end_time": "2025-10-14T09:00:43.892121Z",
     "start_time": "2025-10-14T09:00:43.795351Z"
    }
   },
   "cell_type": "code",
   "source": [
    "fig, ax = plt.subplots()\n",
    "ax.scatter(xs_deg, dvA, s=12)\n",
    "ax.scatter(xs_deg, dvB, s=12)\n",
    "ax.set_xlabel(r\"$\\nu_1$ (deg)\", fontsize=label_font_size)\n",
    "ax.set_ylabel(r\"$\\|\\Delta v\\|$ (m/s)\", fontsize=label_font_size)\n",
    "ax.grid(True, alpha=0.7)\n",
    "ax.tick_params(axis='both', which='major', labelsize=tick_params_font_size)\n",
    "plt.show()"
   ],
   "id": "2d723209c7ee5cce",
   "outputs": [
    {
     "data": {
      "text/plain": [
       "<Figure size 640x480 with 1 Axes>"
      ],
      "image/png": "[encoded data removed]"
     },
     "metadata": {},
     "output_type": "display_data"
    }
   ],
   "execution_count": 53
  },
  {
   "metadata": {
    "ExecuteTime": {
     "end_time": "2025-10-14T09:00:43.894977Z",
     "start_time": "2025-10-14T09:00:43.893329Z"
    }
   },
   "cell_type": "code",
   "source": "",
   "id": "5d7e5ce064c6d690",
   "outputs": [],
   "execution_count": 53
  }
 ],
 "metadata": {
  "kernelspec": {
   "display_name": "Python 3",
   "language": "python",
   "name": "python3"
  },
  "language_info": {
   "codemirror_mode": {
    "name": "ipython",
    "version": 2
   },
   "file_extension": ".py",
   "mimetype": "text/x-python",
   "name": "python",
   "nbconvert_exporter": "python",
   "pygments_lexer": "ipython2",
   "version": "2.7.6"
  }
 },
 "nbformat": 4,
 "nbformat_minor": 5
}
