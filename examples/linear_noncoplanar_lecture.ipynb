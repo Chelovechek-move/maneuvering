{
 "cells": [
  {
   "metadata": {
    "ExecuteTime": {
     "end_time": "2025-10-07T07:30:14.830414Z",
     "start_time": "2025-10-07T07:30:14.828453Z"
    }
   },
   "cell_type": "code",
   "source": "# %matplotlib notebook",
   "id": "d73d4130a26ae535",
   "outputs": [],
   "execution_count": 1
  },
  {
   "metadata": {
    "ExecuteTime": {
     "end_time": "2025-10-07T07:30:49.056758Z",
     "start_time": "2025-10-07T07:30:48.987752Z"
    }
   },
   "cell_type": "code",
   "source": "%matplotlib qt",
   "id": "5da3862bdde7ecac",
   "outputs": [
    {
     "name": "stderr",
     "output_type": "stream",
     "text": [
      "Warning: Ignoring XDG_SESSION_TYPE=wayland on Gnome. Use QT_QPA_PLATFORM=wayland to run on Wayland anyway.\n"
     ]
    }
   ],
   "execution_count": 9
  },
  {
   "metadata": {
    "ExecuteTime": {
     "end_time": "2025-10-07T08:15:11.760688Z",
     "start_time": "2025-10-07T08:15:11.757837Z"
    }
   },
   "cell_type": "code",
   "source": [
    "from __future__ import annotations\n",
    "\n",
    "import math\n",
    "import numpy as np\n",
    "import matplotlib.pyplot as plt\n",
    "from matplotlib import cm\n",
    "from matplotlib.colors import Normalize\n",
    "\n",
    "from maneuvering.types import Scalar\n",
    "from maneuvering.orbit.keplerian import Kep, KepTrue\n",
    "from maneuvering.orbit.distance import distance_orbit\n",
    "from maneuvering.maneuvers.quasi_circular.reference_orbit import trans_devs, reference_orbit\n",
    "from maneuvering.maneuvers.quasi_circular.transition.noncoplanar.noncoplanar import noncoplanar_analytical\n",
    "from maneuvering.maneuvers.quasi_circular.transition.analytical_transition import analytical_transition\n",
    "from maneuvering.maneuvers.quasi_circular.transition.execute import execute, execute_batch\n",
    "from maneuvering.utils.math_tools import normalize_angle\n",
    "from maneuvering.maneuvers.maneuver import Maneuver"
   ],
   "id": "480f3ce16ebe98d7",
   "outputs": [],
   "execution_count": 24
  },
  {
   "metadata": {
    "ExecuteTime": {
     "end_time": "2025-10-07T07:30:15.190110Z",
     "start_time": "2025-10-07T07:30:15.188252Z"
    }
   },
   "cell_type": "code",
   "source": [
    "deg = math.pi / 180.0\n",
    "mu = 3.9860044158e14"
   ],
   "id": "624eb74783504d94",
   "outputs": [],
   "execution_count": 4
  },
  {
   "metadata": {},
   "cell_type": "markdown",
   "source": "### Поверхности ошибок",
   "id": "d49cb636366c0925"
  },
  {
   "metadata": {
    "ExecuteTime": {
     "end_time": "2025-10-07T07:30:52.042664Z",
     "start_time": "2025-10-07T07:30:52.037806Z"
    }
   },
   "cell_type": "code",
   "source": [
    "def build_surfaces_for_di_draan(\n",
    "    di_vals_deg: np.ndarray,\n",
    "    draan_vals_deg: np.ndarray,\n",
    "    *,\n",
    "    a0: float = 6_800_000.0,\n",
    "    e0: float = 0.0,\n",
    "    w0_deg: float = 0.0,\n",
    "    i0_deg: float = 30.0,\n",
    "    raan0_deg: float = 30.0,\n",
    "    mu: float = 3.986004418e14,\n",
    ") -> tuple[np.ndarray, np.ndarray]:\n",
    "    \"\"\"\n",
    "    Для сетки Δi и ΔΩ (в градусах) строит поверхности:\n",
    "      init_err[j,i]  = distance(oi, ot)\n",
    "      final_err[j,i] = distance(execute(oi, mans, μ), ot)\n",
    "    где:\n",
    "      oi = {a0, e0, w0,  i0,  Ω0}\n",
    "      ot = {a0, e0, w0,  i0+Δi,  Ω0+ΔΩ}\n",
    "    Индексы: i — ΔΩ, j — Δi.\n",
    "    \"\"\"\n",
    "    w0 = math.radians(w0_deg)\n",
    "    i0 = math.radians(i0_deg)\n",
    "    raan0 = math.radians(raan0_deg)\n",
    "\n",
    "    init_err = np.zeros((di_vals_deg.size, draan_vals_deg.size), dtype=np.float64)\n",
    "    final_err = np.zeros_like(init_err)\n",
    "\n",
    "    for j, di_deg in enumerate(di_vals_deg):\n",
    "        for i, dO_deg in enumerate(draan_vals_deg):\n",
    "            oi = Kep(a=a0, e=e0, w=w0, i=i0, raan=raan0)\n",
    "            ot = Kep(\n",
    "                a=a0,\n",
    "                e=e0,\n",
    "                w=w0,\n",
    "                i=i0 + math.radians(float(di_deg)),\n",
    "                raan=raan0 + math.radians(float(dO_deg)),\n",
    "            )\n",
    "\n",
    "            d0 = distance_orbit(oi, ot)\n",
    "\n",
    "            mans = noncoplanar_analytical(oi, ot, mu)\n",
    "\n",
    "            of_true = execute(\n",
    "                oi=KepTrue(a=oi.a, e=oi.e, w=oi.w, i=oi.i, raan=oi.raan, nu=0.0),\n",
    "                maneuvers=mans,\n",
    "                mu=mu,\n",
    "            )\n",
    "            of_kep = Kep(a=of_true.a, e=of_true.e, w=of_true.w, i=of_true.i, raan=of_true.raan)\n",
    "            d1 = distance_orbit(of_kep, ot)\n",
    "\n",
    "            init_err[j, i] = d0\n",
    "            final_err[j, i] = d1\n",
    "\n",
    "    return init_err, final_err"
   ],
   "id": "aee58561fdb5cf66",
   "outputs": [],
   "execution_count": 10
  },
  {
   "metadata": {
    "ExecuteTime": {
     "end_time": "2025-10-07T07:31:35.993836Z",
     "start_time": "2025-10-07T07:31:35.062820Z"
    }
   },
   "cell_type": "code",
   "source": [
    "# Диапазоны Δi и ΔΩ: [0°, 5°]\n",
    "di_vals = np.linspace(0.0, 5.0, 41)     # Δi, deg\n",
    "dO_vals = np.linspace(0.0, 5.0, 41)     # ΔΩ, deg\n",
    "dI_grid, dO_grid = np.meshgrid(di_vals, dO_vals, indexing=\"ij\")\n",
    "\n",
    "init_err, final_err = build_surfaces_for_di_draan(di_vals, dO_vals)\n",
    "\n",
    "# Одна фигура, один 3D-axes, две поверхности\n",
    "fig = plt.figure(figsize=(10, 8))\n",
    "ax = fig.add_subplot(111, projection=\"3d\")\n",
    "ax.set_title(\"Некомпланарный переход: ошибки vs Δi, ΔΩ\")\n",
    "\n",
    "# Начальная и финальная поверхности\n",
    "# ax.plot_surface(dO_grid, dI_grid, init_err, rstride=1, cstride=1, linewidth=0, antialiased=True, alpha=0.95)\n",
    "ax.plot_surface(dO_grid, dI_grid, final_err, rstride=1, cstride=1, linewidth=0, antialiased=True, alpha=0.6)\n",
    "\n",
    "ax.set_xlabel(\"ΔΩ, [deg]\")\n",
    "ax.set_ylabel(\"Δi, [deg]\")\n",
    "ax.set_zlabel(\"distance, [m]\", labelpad=6)\n",
    "\n",
    "fig.tight_layout()\n",
    "plt.show()"
   ],
   "id": "59fe9f298421e380",
   "outputs": [],
   "execution_count": 12
  },
  {
   "metadata": {},
   "cell_type": "code",
   "outputs": [],
   "execution_count": null,
   "source": "",
   "id": "828696eb8e98b155"
  },
  {
   "metadata": {},
   "cell_type": "markdown",
   "source": "### Стоимость изменения различных элементов орбиты",
   "id": "40cbb724dffe108a"
  },
  {
   "metadata": {
    "ExecuteTime": {
     "end_time": "2025-10-07T08:01:03.150707Z",
     "start_time": "2025-10-07T08:01:03.148554Z"
    }
   },
   "cell_type": "code",
   "source": [
    "def sum_delta_v(maneuvers) -> float:\n",
    "    \"\"\"Сумма модулей импульсов (характеристическая скорость), [м/с].\"\"\"\n",
    "    return float(sum(np.linalg.norm(m.dv) for m in maneuvers))"
   ],
   "id": "cd04559cd02e41d7",
   "outputs": [],
   "execution_count": 14
  },
  {
   "metadata": {
    "ExecuteTime": {
     "end_time": "2025-10-07T08:01:03.625109Z",
     "start_time": "2025-10-07T08:01:03.620679Z"
    }
   },
   "cell_type": "code",
   "source": [
    "def dv_vs_delta(\n",
    "    oi: Kep,\n",
    "    mu: Scalar,\n",
    "    param: str,\n",
    "    deltas: np.ndarray,\n",
    "    *,\n",
    "    degrees: bool = False,\n",
    ") -> tuple[np.ndarray, np.ndarray]:\n",
    "    \"\"\"\n",
    "    Строит зависимость ΣΔV(Δparam) при фиксированных остальных элементах.\n",
    "    param ∈ {\"a\",\"e\",\"w\",\"i\",\"raan\"}; deltas — массив приращений соответствующей размерности.\n",
    "    \"\"\"\n",
    "    x = deltas.copy()\n",
    "    y = np.zeros_like(x, dtype=float)\n",
    "\n",
    "    for k, d in enumerate(deltas):\n",
    "        if degrees:\n",
    "            d_val = math.radians(float(d))\n",
    "        else:\n",
    "            d_val = float(d)\n",
    "\n",
    "        if param == \"a\":\n",
    "            ot = Kep(a=oi.a + d_val, e=oi.e, w=oi.w, i=oi.i, raan=oi.raan)\n",
    "        elif param == \"e\":\n",
    "            ot = Kep(a=oi.a, e=oi.e + d_val, w=oi.w, i=oi.i, raan=oi.raan)\n",
    "        elif param == \"w\":\n",
    "            ot = Kep(a=oi.a, e=oi.e, w=oi.w + d_val, i=oi.i, raan=oi.raan)\n",
    "        elif param == \"i\":\n",
    "            ot = Kep(a=oi.a, e=oi.e, w=oi.w, i=oi.i + d_val, raan=oi.raan)\n",
    "        elif param == \"raan\":\n",
    "            ot = Kep(a=oi.a, e=oi.e, w=oi.w, i=oi.i, raan=oi.raan + d_val)\n",
    "        else:\n",
    "            raise ValueError(f\"Unsupported param: {param}\")\n",
    "\n",
    "        mans = analytical_transition(oi, ot, mu)\n",
    "        y[k] = sum_delta_v(mans)\n",
    "\n",
    "    return x, y"
   ],
   "id": "d14ba8533c216556",
   "outputs": [],
   "execution_count": 15
  },
  {
   "metadata": {
    "ExecuteTime": {
     "end_time": "2025-10-07T08:21:43.073577Z",
     "start_time": "2025-10-07T08:21:42.817855Z"
    }
   },
   "cell_type": "code",
   "source": [
    "# Базовые значения\n",
    "a0 = 6_800_000.0\n",
    "e0 = 0.001\n",
    "w0 = math.radians(30.0)\n",
    "i0 = math.radians(30.0)\n",
    "raan0 = math.radians(30.0)\n",
    "mu = 3.986004418e14\n",
    "\n",
    "oi = Kep(a=a0, e=e0, w=w0, i=i0, raan=raan0)\n",
    "\n",
    "# Диапазоны Δ (по ТЗ)\n",
    "da = np.linspace(0.0, 500_000.0, 201)      # м\n",
    "de = np.linspace(0.0, 0.05, 201)           # 1\n",
    "dw = np.linspace(0.0, 90.0, 181)           # град\n",
    "di = np.linspace(0.0, 5.0, 101)            # град\n",
    "dO = np.linspace(0.0, 5.0, 101)            # град\n",
    "\n",
    "# Вычисления\n",
    "xa, ya = dv_vs_delta(oi, mu, \"a\", da, degrees=False)\n",
    "xe, ye = dv_vs_delta(oi, mu, \"e\", de, degrees=False)\n",
    "xw, yw = dv_vs_delta(oi, mu, \"w\", dw, degrees=True)\n",
    "xi, yi = dv_vs_delta(oi, mu, \"i\", di, degrees=True)\n",
    "xO, yO = dv_vs_delta(oi, mu, \"raan\", dO, degrees=True)\n",
    "\n",
    "# Графики: 2×3, последний из нижнего ряда оставим пустым\n",
    "fig, axes = plt.subplots(2, 3, figsize=(14, 8), sharey=False)\n",
    "axes = axes.ravel()\n",
    "\n",
    "tick_params_font_size = 18\n",
    "label_font_size = 22\n",
    "# a\n",
    "axes[0].plot(xa, ya, lw=2)\n",
    "axes[0].set_title(\"ΣΔV vs Δa\", fontsize=label_font_size)\n",
    "axes[0].set_xlabel(\"Δa, m\", fontsize=label_font_size)\n",
    "axes[0].set_ylabel(\"ΣΔV, m/s\", fontsize=label_font_size)\n",
    "axes[0].grid(True, alpha=0.3)\n",
    "axes[0].tick_params(axis='both', which='major', labelsize=tick_params_font_size)\n",
    "\n",
    "# e\n",
    "axes[1].plot(xe, ye, lw=2)\n",
    "axes[1].set_title(\"ΣΔV vs Δe\", fontsize=label_font_size)\n",
    "axes[1].set_xlabel(\"Δe, [1]\", fontsize=label_font_size)\n",
    "axes[1].grid(True, alpha=0.3)\n",
    "axes[1].tick_params(axis='both', which='major', labelsize=tick_params_font_size)\n",
    "\n",
    "# w\n",
    "axes[2].plot(xw, yw, lw=2)\n",
    "axes[2].set_title(\"ΣΔV vs Δω\", fontsize=label_font_size)\n",
    "axes[2].set_xlabel(\"Δω, deg\", fontsize=label_font_size)\n",
    "axes[2].grid(True, alpha=0.3)\n",
    "axes[2].tick_params(axis='both', which='major', labelsize=tick_params_font_size)\n",
    "\n",
    "# i\n",
    "axes[3].plot(xi, yi, lw=2)\n",
    "axes[3].set_title(\"ΣΔV vs Δi\", fontsize=label_font_size)\n",
    "axes[3].set_xlabel(\"Δi, deg\", fontsize=label_font_size)\n",
    "axes[3].set_ylabel(\"ΣΔV, m/s\", fontsize=label_font_size)\n",
    "axes[3].grid(True, alpha=0.3)\n",
    "axes[3].tick_params(axis='both', which='major', labelsize=tick_params_font_size)\n",
    "\n",
    "# raan\n",
    "axes[4].plot(xO, yO, lw=2)\n",
    "axes[4].set_title(\"ΣΔV vs ΔΩ\", fontsize=label_font_size)\n",
    "axes[4].set_xlabel(\"ΔΩ, deg\", fontsize=label_font_size)\n",
    "axes[4].grid(True, alpha=0.3)\n",
    "axes[4].tick_params(axis='both', which='major', labelsize=tick_params_font_size)\n",
    "\n",
    "# последний пустой\n",
    "axes[5].axis(\"off\")\n",
    "\n",
    "fig.suptitle(\"Суммарная характеристическая скорость для вариаций отдельных элементов\", y=0.98)\n",
    "fig.tight_layout()\n",
    "plt.show()"
   ],
   "id": "e4958a674825dce0",
   "outputs": [],
   "execution_count": 32
  },
  {
   "metadata": {},
   "cell_type": "code",
   "outputs": [],
   "execution_count": null,
   "source": "",
   "id": "fd41eb706bf91d82"
  },
  {
   "metadata": {},
   "cell_type": "markdown",
   "source": "### Зависимости орбитальных элементов от абсолютного угла, пройденного КА, с активным маневрированием",
   "id": "3b1045fd667b3160"
  },
  {
   "metadata": {
    "ExecuteTime": {
     "end_time": "2025-10-07T08:28:32.479046Z",
     "start_time": "2025-10-07T08:28:32.473926Z"
    }
   },
   "cell_type": "code",
   "source": [
    "def plot_transition_series(oi, ot, mu):\n",
    "    \"\"\"\n",
    "    1) Считает манёвры: mans = analytical_transition(oi, ot, mu)\n",
    "    2) Прогоняет: states, angles_abs = execute_batch(oi, mans, step, mu)\n",
    "       (step фиксируем внутри как 2π/720)\n",
    "    3) Строит 6 графиков (2×3): a, e, ω; i, Ω, ν.\n",
    "       Ось X — накопленный абсолютный угол u=ω+ν (радианы).\n",
    "    Возвращает: fig, axes, states, angles_abs\n",
    "    \"\"\"\n",
    "    # 1) Манёвры\n",
    "    mans = analytical_transition(oi, ot, mu)\n",
    "\n",
    "    # 2) Прогон (фиксированный шаг по u)\n",
    "    states, angles_abs = execute_batch(oi, mans, mu)\n",
    "\n",
    "    if not states:\n",
    "        raise ValueError(\"Пустой список состояний.\")\n",
    "\n",
    "    # 3) Достаём ряды\n",
    "    a = np.array([s.a for s in states], dtype=float)\n",
    "    e = np.array([s.e for s in states], dtype=float)\n",
    "    w = np.array([s.w for s in states], dtype=float)\n",
    "    inc = np.array([s.i for s in states], dtype=float)\n",
    "    Om = np.array([s.raan for s in states], dtype=float)\n",
    "    nu = np.array([s.nu for s in states], dtype=float)\n",
    "    x = np.asarray(angles_abs, dtype=float)  # уже в радианах\n",
    "\n",
    "    # Разворачиваем углы (чтобы не было скачков через 2π)\n",
    "    unwrap = lambda arr: np.unwrap(arr, discont=np.pi)\n",
    "    w_u, i_u, Om_u, nu_u = map(unwrap, (w, inc, Om, nu))\n",
    "\n",
    "    # Оформление\n",
    "    plt.rcParams.update({\n",
    "        \"figure.constrained_layout.use\": True,\n",
    "        \"axes.grid\": True,\n",
    "        \"font.size\": 11,\n",
    "        \"figure.figsize\": (12, 6),\n",
    "    })\n",
    "\n",
    "    fig, axes = plt.subplots(2, 3, sharex=True)\n",
    "    (ax_a, ax_e, ax_w), (ax_i, ax_Om, ax_nu) = axes\n",
    "\n",
    "    # Верхний ряд\n",
    "    ax_a.plot(x, a, lw=2)\n",
    "    ax_a.set_title(\"Большая полуось a, [м]\")\n",
    "\n",
    "    ax_e.plot(x, e, lw=2)\n",
    "    ax_e.set_title(\"Эксцентриситет e, [1]\")\n",
    "\n",
    "    ax_w.plot(x, w_u, lw=2)\n",
    "    ax_w.set_title(\"Аргумент перицентра ω, [рад]\")\n",
    "\n",
    "    # Нижний ряд\n",
    "    ax_i.plot(x, i_u, lw=2)\n",
    "    ax_i.set_title(\"Наклонение i, [рад]\")\n",
    "\n",
    "    ax_Om.plot(x, Om_u, lw=2)\n",
    "    ax_Om.set_title(\"Долгота восходящего узла Ω, [рад]\")\n",
    "\n",
    "    ax_nu.plot(x, nu_u, lw=2)\n",
    "    ax_nu.set_title(\"Истинная аномалия ν, [рад]\")\n",
    "\n",
    "    # Общая ось X\n",
    "    axes[1, 1].set_xlabel(\"Накопленный угол u = ω + ν, [рад]\")\n",
    "\n",
    "    for ax in axes.ravel():\n",
    "        ax.tick_params(axis='both', which='major', labelsize=10)\n",
    "\n",
    "    plt.show()"
   ],
   "id": "153cf40865cd0fc",
   "outputs": [],
   "execution_count": 33
  },
  {
   "metadata": {
    "ExecuteTime": {
     "end_time": "2025-10-07T08:28:57.321060Z",
     "start_time": "2025-10-07T08:28:57.271558Z"
    }
   },
   "cell_type": "code",
   "source": [
    "# Некомпланарный, узловой, ΔE_x≠0\n",
    "oi = KepTrue(a=7_000_000.0, e=0.00228, i=10 * deg, w=20 * deg, raan=130 * deg, nu=0.0)\n",
    "ot = Kep(a=7_010_000.0, e=0.00149, i=15 * deg, w=150 * deg, raan=130 * deg)\n",
    "plot_transition_series(oi, ot, mu)"
   ],
   "id": "d1a21ff94dc4645b",
   "outputs": [],
   "execution_count": 35
  },
  {
   "metadata": {
    "ExecuteTime": {
     "end_time": "2025-10-07T08:31:01.522569Z",
     "start_time": "2025-10-07T08:31:01.479482Z"
    }
   },
   "cell_type": "code",
   "source": [
    "# Некомпланарный, невырожденный, ΔE≠0\n",
    "oi = KepTrue(a=7_000_000.0, e=0.00228, i=10 * deg, w=20 * deg, raan=130 * deg, nu=0.0)\n",
    "ot = Kep(a=8_000_000.0, e=0.00149, i=15 * deg, w=150 * deg, raan=130 * deg)\n",
    "plot_transition_series(oi, ot, mu)"
   ],
   "id": "4e633a192c66e42a",
   "outputs": [],
   "execution_count": 36
  },
  {
   "metadata": {
    "ExecuteTime": {
     "end_time": "2025-10-07T08:31:06.194428Z",
     "start_time": "2025-10-07T08:31:06.148578Z"
    }
   },
   "cell_type": "code",
   "source": [
    "# Некомпланарный, особый случай\n",
    "oi = KepTrue(a=7_000_000.0, e=0.00228, i=10 * deg, w=90 * deg, raan=130 * deg, nu=0.0)\n",
    "ot = Kep(a=7_010_000.0, e=0.09149, i=12 * deg, w=90 * deg, raan=130 * deg)\n",
    "plot_transition_series(oi, ot, mu)"
   ],
   "id": "2ddfd0c1bca8f1ca",
   "outputs": [],
   "execution_count": 37
  },
  {
   "metadata": {},
   "cell_type": "code",
   "outputs": [],
   "execution_count": null,
   "source": "",
   "id": "79fdc724270c2d18"
  }
 ],
 "metadata": {
  "kernelspec": {
   "display_name": "Python 3",
   "language": "python",
   "name": "python3"
  },
  "language_info": {
   "codemirror_mode": {
    "name": "ipython",
    "version": 2
   },
   "file_extension": ".py",
   "mimetype": "text/x-python",
   "name": "python",
   "nbconvert_exporter": "python",
   "pygments_lexer": "ipython2",
   "version": "2.7.6"
  }
 },
 "nbformat": 4,
 "nbformat_minor": 5
}
