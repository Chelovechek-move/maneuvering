{
 "cells": [
  {
   "metadata": {
    "ExecuteTime": {
     "end_time": "2025-10-02T18:58:41.468309Z",
     "start_time": "2025-10-02T18:58:41.466509Z"
    }
   },
   "cell_type": "code",
   "source": "# %matplotlib notebook",
   "id": "6e06f17a21f12bc2",
   "execution_count": 1,
   "outputs": []
  },
  {
   "metadata": {
    "ExecuteTime": {
     "end_time": "2025-10-02T18:58:41.474783Z",
     "start_time": "2025-10-02T18:58:41.469050Z"
    }
   },
   "cell_type": "code",
   "source": "# %matplotlib qt",
   "id": "e24093c20c2cb5bf",
   "execution_count": 2,
   "outputs": []
  },
  {
   "metadata": {
    "ExecuteTime": {
     "end_time": "2025-10-02T18:58:41.773261Z",
     "start_time": "2025-10-02T18:58:41.475274Z"
    }
   },
   "cell_type": "code",
   "source": [
    "from __future__ import annotations\n",
    "\n",
    "import math\n",
    "import numpy as np\n",
    "import matplotlib.pyplot as plt\n",
    "from matplotlib import cm\n",
    "from matplotlib.colors import Normalize\n",
    "from mpl_toolkits.mplot3d import Axes3D  # noqa: F401 (нужно для 3D)\n",
    "\n",
    "from maneuvering.types import Scalar\n",
    "from maneuvering.orbit.keplerian import Kep, KepTrue\n",
    "from maneuvering.orbit.distance import distance_orbit\n",
    "from maneuvering.maneuvers.quasi_circular.reference_orbit import trans_devs, reference_orbit\n",
    "from maneuvering.maneuvers.quasi_circular.transition.coplanar.coplanar import coplanar_non_intersecting, coplanar_analytical\n",
    "from maneuvering.maneuvers.quasi_circular.transition.execute import execute, execute_batch\n",
    "from maneuvering.utils.math_tools import normalize_angle\n",
    "from maneuvering.maneuvers.maneuver import Maneuver"
   ],
   "id": "449e82208a92a6bb",
   "execution_count": 3,
   "outputs": []
  },
  {
   "cell_type": "code",
   "id": "initial_id",
   "metadata": {
    "collapsed": true,
    "ExecuteTime": {
     "end_time": "2025-10-02T18:58:42.393326Z",
     "start_time": "2025-10-02T18:58:42.391527Z"
    }
   },
   "source": [
    "deg = math.pi / 180.0\n",
    "mu = 3.9860044158e14"
   ],
   "execution_count": 4,
   "outputs": []
  },
  {
   "metadata": {},
   "cell_type": "markdown",
   "source": "### Зависимость хар. скорости от начального угла для случая непересекающихся орбит",
   "id": "a2f2230276ce3e56"
  },
  {
   "metadata": {
    "ExecuteTime": {
     "end_time": "2025-10-02T18:58:44.065887Z",
     "start_time": "2025-10-02T18:58:43.852220Z"
    }
   },
   "cell_type": "code",
   "source": [
    "oi = Kep(a=6_566_000.0, e=0.00228, w=20 * deg, i=0.0, raan=130 * deg)\n",
    "ot = Kep(a=6_721_000.0, e=0.00149, w=150 * deg, i=0.0, raan=130 * deg)\n",
    "\n",
    "# Параметры задачи перехода\n",
    "devs = trans_devs(oi, ot)\n",
    "ref = reference_orbit(oi, ot, mu)  # ref.v — круговая скорость на опорной орбите\n",
    "\n",
    "# Сканируем угол первого импульса: ang1 ∈ [0, 2π)\n",
    "thetas = np.linspace(0.0, 2.0 * np.pi, 720, endpoint=False)\n",
    "dV = np.empty_like(thetas)\n",
    "\n",
    "for k, ang1 in enumerate(thetas):\n",
    "    try:\n",
    "        mans = coplanar_non_intersecting(devs, ang1=ang1)  # dv безразмерные (по v_ref)\n",
    "        # в непересекающемся случае импульсы чисто трансверсальные: берём y-компоненту\n",
    "        dvt_sum_abs = abs(mans[0].dv[1]) + abs(mans[1].dv[1])\n",
    "        dV[k] = ref.v * dvt_sum_abs\n",
    "    except ZeroDivisionError:\n",
    "        dV[k] = np.nan  # теоретически, когда знаменатель в формуле обнуляется\n",
    "\n",
    "# Эталон: ΔV = v_ref * |ΔA| / 2 (не зависит от угла)\n",
    "dV_ref = ref.v * abs(devs.a) / 2.0\n",
    "\n",
    "# График\n",
    "fig, ax = plt.subplots(figsize=(10, 7))\n",
    "ax.axhline(dV_ref, ls='--', color='C1', label=r'эталон $v_{\\rm ref}\\,|\\Delta A|/2$')\n",
    "ax.plot(thetas, dV, lw=2, color='C0', label=r'$\\Delta V(\\varphi_1)$ (расчёт)')\n",
    "\n",
    "ax.set_xlabel(r'$\\varphi_1$ (рад)', fontsize=22)  # угол первого импульса\n",
    "ax.set_ylabel(r'$\\Delta V$ (м/с)', fontsize=22)\n",
    "ax.set_title('Непересекающиеся орбиты: зависимость суммарной ΔV от угла первого импульса', fontsize=22)\n",
    "ax.tick_params(axis='both', which='major', labelsize=18)\n",
    "ax.grid(True, alpha=0.3)\n",
    "ax.legend(fontsize=22)\n",
    "plt.show()"
   ],
   "id": "4b9daaa26a961a6e",
   "execution_count": 5,
   "outputs": []
  },
  {
   "metadata": {
    "ExecuteTime": {
     "end_time": "2025-10-02T18:58:46.894211Z",
     "start_time": "2025-10-02T18:58:46.892770Z"
    }
   },
   "cell_type": "code",
   "source": "",
   "id": "996f917b8ffd195",
   "execution_count": 5,
   "outputs": []
  },
  {
   "metadata": {},
   "cell_type": "markdown",
   "source": "### Годограф базис-вектора",
   "id": "f3c6c28894c93722"
  },
  {
   "metadata": {
    "ExecuteTime": {
     "end_time": "2025-10-02T18:58:47.964157Z",
     "start_time": "2025-10-02T18:58:47.960821Z"
    }
   },
   "cell_type": "code",
   "source": [
    "def primer_coeffs(m1: Maneuver, m2: Maneuver) -> tuple[Scalar, Scalar, Scalar]:\n",
    "    \"\"\"\n",
    "    Вычисляет коэффициенты базис-вектора для компланарного решения по двум манёврам.\n",
    "\n",
    "    Модель (линейная, базис-вектор):\n",
    "        λ(θ) = R · sin(θ − θ0)\n",
    "        μ(θ) = 2·λ1 + 2·R · cos(θ − θ0)\n",
    "\n",
    "    где\n",
    "        θ0  — угол первого импульса (истинная широта точки приложения), [рад];\n",
    "        s_k = sign(ΔV_tk), k=1,2  (берём знак тангенциальной компоненты импульса);\n",
    "        R   = (s1 - s2) / 2.0 / (1.0 - cos(theta2 - theta1)),\n",
    "        λ1  = s1 / 2 - R.\n",
    "\n",
    "    Параметры\n",
    "    ----------\n",
    "    m1, m2 : Maneuver\n",
    "        Два манёвра компланарного решения.\n",
    "\n",
    "    Возвращает\n",
    "    -------\n",
    "    (theta0, lam1, R) : tuple[Scalar, Scalar, Scalar]\n",
    "        θ0 — опорный угол; λ1 и R — коэффициенты в формулах λ(θ), μ(θ).\n",
    "    \"\"\"\n",
    "    theta1 = float(m1.angle)\n",
    "    theta2 = float(m2.angle)\n",
    "    s1 = 1.0 if float(m1.dv[1]) >= 0.0 else -1.0\n",
    "    s2 = 1.0 if float(m2.dv[1]) >= 0.0 else -1.0\n",
    "\n",
    "    # фиксируем фазу как θ0 = θ1\n",
    "    theta0 = theta1\n",
    "    dtheta = normalize_angle(theta2 - theta1)\n",
    "    cosd = math.cos(dtheta)\n",
    "\n",
    "    dvt1_abs = abs(float(m1.dv[1]))\n",
    "    dvt2_abs = abs(float(m2.dv[1]))\n",
    "\n",
    "    if abs(cosd - 1.0) < 1e-13 or dvt1_abs < 1e-13 or dvt2_abs < 1e-13:\n",
    "        # Это случай касающихся орбит. Он тут коряво обрабатывается\n",
    "        max_abs_dv = float(m1.dv[1]) if dvt1_abs >= dvt2_abs else float(m2.dv[1])\n",
    "        s = 1.0 if max_abs_dv >= 0.0 else -1.0\n",
    "        lam1 = s * 1.0 / 8.0\n",
    "        R = -(1.0 / 2.0 - abs(lam1))\n",
    "        return theta0, lam1, R\n",
    "    else:\n",
    "        R = (s1 - s2) / 2.0 / (1.0 - cosd)\n",
    "        lam1 = (s1 / 2.0) - R\n",
    "        return theta0, lam1, R"
   ],
   "id": "9fc1b54f77c3e02c",
   "execution_count": 6,
   "outputs": []
  },
  {
   "metadata": {
    "ExecuteTime": {
     "end_time": "2025-10-02T18:58:49.074558Z",
     "start_time": "2025-10-02T18:58:49.071507Z"
    }
   },
   "cell_type": "code",
   "source": [
    "def primer_coplanar(m1: Maneuver, m2: Maneuver, step: Scalar = np.deg2rad(1.0)) -> tuple[\n",
    "    np.ndarray, np.ndarray, np.ndarray]:\n",
    "    \"\"\"\n",
    "    Строит зависимость компонент базис-вектора (λ, μ) от угла θ для компланарного решения.\n",
    "\n",
    "        λ(θ) = R · sin(θ − θ0)\n",
    "        μ(θ) = 2·λ1 + 2·R · cos(θ − θ0)\n",
    "\n",
    "    Параметры\n",
    "    ----------\n",
    "    m1, m2 : Maneuver\n",
    "        Два манёвра (как в coplanar_analytical): dv в орбитальной СК {r,t,n}, angle в радианах.\n",
    "        Используется только `angle` и `dv[1]` (тангенциальная компонента).\n",
    "    step : Scalar, optional\n",
    "        Шаг по углу θ (рад). По умолчанию 2π/720.\n",
    "\n",
    "    Возвращает\n",
    "    -------\n",
    "    theta, lam, mu : (np.ndarray, np.ndarray, np.ndarray)\n",
    "        Сетка углов θ ∈ [0, 2π], и соответствующие значения λ(θ), μ(θ).\n",
    "    \"\"\"\n",
    "    theta0, lam1, R = primer_coeffs(m1, m2)\n",
    "\n",
    "    # сетка углов [0, 2π] с включением правой границы\n",
    "    n = int(math.ceil((2.0 * math.pi) / step)) + 1\n",
    "    theta = np.linspace(0.0, 2.0 * math.pi, n, endpoint=True)\n",
    "\n",
    "    d = theta - theta0\n",
    "    lam = R * np.sin(d)\n",
    "    mu = 2.0 * lam1 + 2.0 * R * np.cos(d)\n",
    "\n",
    "    return theta, lam.astype(np.float64), mu.astype(np.float64)"
   ],
   "id": "2cd4464d6b7827b7",
   "execution_count": 7,
   "outputs": []
  },
  {
   "metadata": {
    "ExecuteTime": {
     "end_time": "2025-10-02T18:58:49.491063Z",
     "start_time": "2025-10-02T18:58:49.483556Z"
    }
   },
   "cell_type": "code",
   "source": [
    "def plot_primer(oi: Kep, ot: Kep, mu: float):\n",
    "    \"\"\"\n",
    "    Слева: ΔV-«стебли» и |p(θ)|; справа: годограф (μ по горизонтали, λ по вертикали)\n",
    "    с единичной окружностью и отметками точек импульсов.\n",
    "    \"\"\"\n",
    "    mans = coplanar_analytical(oi, ot, mu)\n",
    "    assert len(mans) == 2, \"Ожидались два импульса в компланарном решении.\"\n",
    "\n",
    "    # кривые базис-вектора\n",
    "    theta, lam, muv = primer_coplanar(mans[0], mans[1])  # lam=λ(θ), muv=μ(θ)\n",
    "    s_mag = np.sqrt(lam * lam + muv * muv)\n",
    "\n",
    "    # импульсы: углы и |ΔV_t|\n",
    "    impulses = [(float(mans[0].angle), float(mans[0].dv[1])),\n",
    "                (float(mans[1].angle), float(mans[1].dv[1]))]\n",
    "    th_imp = np.array([p for p, _ in impulses], dtype=float)\n",
    "    dv_imp = np.array([v for _, v in impulses], dtype=float)\n",
    "\n",
    "    # фигура и оси; у |p(θ)| та же горизонталь, что и у ΔV (sharex)\n",
    "    fig = plt.figure(figsize=(12, 6))\n",
    "    gs = fig.add_gridspec(2, 2, width_ratios=[2, 1], height_ratios=[1, 2],\n",
    "                          wspace=0.25, hspace=0.25)\n",
    "    ax1 = fig.add_subplot(gs[0, 0])  # ΔV\n",
    "    ax2 = fig.add_subplot(gs[1, 0], sharex=ax1)  # |p(θ)| (общая ось θ с ax1)\n",
    "    ax3 = fig.add_subplot(gs[:, 1])  # годограф (μ по X, λ по Y)\n",
    "\n",
    "    # === (1) ΔV-«стебли»\n",
    "    markerline, stemlines, _ = ax1.stem(th_imp, dv_imp, basefmt=\" \")\n",
    "    plt.setp(stemlines, linewidth=2)\n",
    "    plt.setp(markerline, markersize=6)\n",
    "    ax1.set_xlim(0.0, 2.0 * np.pi)  # согласуем диапазон θ\n",
    "    ax1.set_ylabel(\"ΔV (м/с)\", fontsize=22)\n",
    "    ax1.set_title(\"Хар. скорость\", fontsize=22)\n",
    "    ax1.tick_params(axis='both', which='major', labelsize=18)\n",
    "    ax1.grid(True, alpha=0.35)\n",
    "\n",
    "    # === (2) |p(θ)|\n",
    "    ax2.plot(theta, s_mag, lw=2)\n",
    "    ax2.axhline(1.0, color=\"k\", ls=\"--\", lw=2.0, alpha=0.8)\n",
    "    for th in th_imp:\n",
    "        ax2.axvline(th, color=\"r\", ls=\":\", lw=2.0, alpha=0.8)\n",
    "    ax2.set_ylim(0.0, max(1.2, float(s_mag.max()) * 1.05))\n",
    "    ax2.set_ylabel(\"|p(θ)|\", fontsize=22)\n",
    "    ax2.set_xlabel(\"θ (рад)\", fontsize=22)\n",
    "    ax2.set_title(\"Модуль базис-вектора\", fontsize=22)\n",
    "    ax2.tick_params(axis='both', which='major', labelsize=18)\n",
    "    ax2.grid(True, alpha=0.35)\n",
    "\n",
    "    # === (3) Годограф\n",
    "    ax3.plot(muv, lam, lw=2, label=\"p(θ)\")\n",
    "    ang = np.linspace(0, 2 * np.pi, 400)\n",
    "    ax3.plot(np.sin(ang), np.cos(ang), 'k--', lw=2, alpha=0.8, label=\"|p|=1\")  # (μ, λ)\n",
    "\n",
    "    # точки импульсов на годографе: восстановим координаты (λ, μ) и отрисуем как (μ, λ)\n",
    "    th1 = th_imp[0]\n",
    "    idx1 = int(np.argmin(np.abs(theta - th1)))\n",
    "    idx2 = int(np.argmin(np.abs(((theta - (th1 + np.pi)) + 2 * np.pi) % (2 * np.pi))))\n",
    "    # μ(th1)=2(λ1+R), μ(th1+π)=2(λ1−R) → оценки λ1 и R\n",
    "    mu1, mu2 = float(muv[idx1]), float(muv[idx2])\n",
    "    R_est, l1_est = 0.25 * (mu1 - mu2), 0.25 * (mu1 + mu2)\n",
    "\n",
    "    mult = -1\n",
    "\n",
    "    for th in th_imp:\n",
    "        d = th - th1\n",
    "        lam_pt = R_est * math.sin(d)\n",
    "        mu_pt = 2.0 * l1_est + 2.0 * R_est * math.cos(d)\n",
    "        ax3.plot(mu_pt, lam_pt, 'ro')  # (μ, λ)\n",
    "        mult *= -1\n",
    "        ax3.annotate(f\"θ={th:.2f}\", (mu_pt, lam_pt),\n",
    "                     textcoords=\"offset points\", xytext=(6, mult * 6),\n",
    "                     fontsize=14, color='r')\n",
    "\n",
    "    ax3.set_aspect('equal', 'box')\n",
    "    ax3.set_xlabel(\"μ (тангенциальная)\", fontsize=22)\n",
    "    ax3.set_ylabel(\"λ (радиальная)\", fontsize=22)\n",
    "    ax3.set_title(\"Годограф базис-вектора\", fontsize=22)\n",
    "    ax3.tick_params(axis='both', which='major', labelsize=18)\n",
    "    ax3.grid(True, alpha=0.35)\n",
    "    ax3.legend(loc=\"best\", fontsize=14, framealpha=0.6)\n",
    "\n",
    "    plt.show()"
   ],
   "id": "8ebb5b624bb49674",
   "execution_count": 8,
   "outputs": []
  },
  {
   "metadata": {
    "ExecuteTime": {
     "end_time": "2025-10-02T18:58:50.257690Z",
     "start_time": "2025-10-02T18:58:50.054047Z"
    }
   },
   "cell_type": "code",
   "source": [
    "# 1) Пересекающиеся\n",
    "oi_int = Kep(a=6_700_000.0, e=0.00100, w=20.0 * deg, i=0.0, raan=0.0)\n",
    "ot_int = Kep(a=6_700_500.0, e=0.00300, w=60.0 * deg, i=0.0, raan=0.0)\n",
    "plot_primer(oi_int, ot_int, mu)"
   ],
   "id": "28a628c0ede187e",
   "execution_count": 9,
   "outputs": []
  },
  {
   "metadata": {
    "ExecuteTime": {
     "end_time": "2025-10-02T18:58:55.852603Z",
     "start_time": "2025-10-02T18:58:55.653549Z"
    }
   },
   "cell_type": "code",
   "source": [
    "# 2) Непересекающиеся\n",
    "oi_non = Kep(a=6_700_000.0, e=0.00100, w=20.0 * deg, i=0.0, raan=0.0)\n",
    "ot_non = Kep(a=6_750_000.0, e=0.00120, w=30.0 * deg, i=0.0, raan=0.0)\n",
    "plot_primer(oi_non, ot_non, mu)"
   ],
   "id": "d480de0a66cfaec3",
   "execution_count": 10,
   "outputs": []
  },
  {
   "metadata": {
    "ExecuteTime": {
     "end_time": "2025-10-02T18:58:56.275970Z",
     "start_time": "2025-10-02T18:58:56.101389Z"
    }
   },
   "cell_type": "code",
   "source": [
    "# 3) Касающиеся (граница)\n",
    "oi_tan = Kep(a=6_700_000.0, e=0.00100, w=0.0 * deg, i=0.0, raan=0.0)\n",
    "ot_tan = Kep(a=6_716_770.963704631, e=0.00150, w=180.0 * deg, i=0.0, raan=0.0)\n",
    "plot_primer(oi_tan, ot_tan, mu)"
   ],
   "id": "8878956d50b06442",
   "execution_count": 11,
   "outputs": []
  },
  {
   "metadata": {},
   "cell_type": "code",
   "execution_count": null,
   "source": "",
   "id": "2ab1439e224a939a",
   "outputs": []
  }
 ],
 "metadata": {
  "kernelspec": {
   "display_name": "Python 3",
   "language": "python",
   "name": "python3"
  },
  "language_info": {
   "codemirror_mode": {
    "name": "ipython",
    "version": 2
   },
   "file_extension": ".py",
   "mimetype": "text/x-python",
   "name": "python",
   "nbconvert_exporter": "python",
   "pygments_lexer": "ipython2",
   "version": "2.7.6"
  }
 },
 "nbformat": 4,
 "nbformat_minor": 5
}
