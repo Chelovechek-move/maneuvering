{
 "cells": [
  {
   "metadata": {
    "ExecuteTime": {
     "end_time": "2025-09-29T08:46:33.567697Z",
     "start_time": "2025-09-29T08:46:33.565469Z"
    }
   },
   "cell_type": "code",
   "source": "# %matplotlib notebook",
   "id": "2e0cf04d0d5217c5",
   "outputs": [],
   "execution_count": 9
  },
  {
   "metadata": {
    "ExecuteTime": {
     "end_time": "2025-10-02T14:46:19.481800Z",
     "start_time": "2025-10-02T14:46:19.067101Z"
    }
   },
   "cell_type": "code",
   "source": "%matplotlib qt",
   "id": "97caf05502b1e908",
   "outputs": [
    {
     "name": "stderr",
     "output_type": "stream",
     "text": [
      "Warning: Ignoring XDG_SESSION_TYPE=wayland on Gnome. Use QT_QPA_PLATFORM=wayland to run on Wayland anyway.\n"
     ]
    }
   ],
   "execution_count": 1
  },
  {
   "metadata": {
    "ExecuteTime": {
     "end_time": "2025-10-02T14:46:19.493652Z",
     "start_time": "2025-10-02T14:46:19.482768Z"
    }
   },
   "cell_type": "code",
   "source": [
    "from __future__ import annotations\n",
    "\n",
    "import math\n",
    "import numpy as np\n",
    "import matplotlib.pyplot as plt\n",
    "from matplotlib import cm\n",
    "from matplotlib.colors import Normalize\n",
    "from mpl_toolkits.mplot3d import Axes3D  # noqa: F401 (нужно для 3D)\n",
    "\n",
    "from maneuvering.types import Scalar\n",
    "from maneuvering.orbit.keplerian import Kep, KepTrue\n",
    "from maneuvering.orbit.distance import distance_orbit\n",
    "from maneuvering.maneuvers.quasi_circular.reference_orbit import trans_devs, reference_orbit\n",
    "from maneuvering.maneuvers.quasi_circular.transition.coplanar import coplanar_non_intersecting, coplanar_analytical\n",
    "from maneuvering.maneuvers.quasi_circular.transition.execute import execute, execute_batch\n",
    "from maneuvering.utils.math_tools import normalize_angle\n",
    "from maneuvering.maneuvers.maneuver import Maneuver"
   ],
   "id": "f2f331a6ee6841b5",
   "outputs": [],
   "execution_count": 2
  },
  {
   "metadata": {
    "ExecuteTime": {
     "end_time": "2025-10-02T14:46:19.495983Z",
     "start_time": "2025-10-02T14:46:19.494443Z"
    }
   },
   "cell_type": "code",
   "source": [
    "deg = math.pi / 180.0\n",
    "mu = 3.9860044158e14"
   ],
   "id": "be69232c70b1386",
   "outputs": [],
   "execution_count": 3
  },
  {
   "metadata": {},
   "cell_type": "markdown",
   "source": "### Зависимость начальной и конечной ошибок от параметров задачи компланарного перехода",
   "id": "d5bbde0c8755eaf7"
  },
  {
   "metadata": {
    "ExecuteTime": {
     "end_time": "2025-09-30T16:10:43.088766Z",
     "start_time": "2025-09-30T16:10:43.084140Z"
    }
   },
   "cell_type": "code",
   "source": [
    "def build_surfaces_for_dw(dw_deg: float, de_vals: np.ndarray, da_vals: np.ndarray) -> tuple[np.ndarray, np.ndarray]:\n",
    "    \"\"\"\n",
    "    Для фиксированного Δω (градусы) строит поверхности:\n",
    "      init_err[j,i]  = distance(oi, ot)\n",
    "      final_err[j,i] = distance(execute(oi, mans, μ), ot)\n",
    "    где:\n",
    "      oi = {a0, e0, w0=0, i0=0, Ω0=0},\n",
    "      ot = {a0 + Δa, e0 + Δe, w=Δω, i=0, Ω=0}.\n",
    "    Индексы: i — Δe, j — Δa.\n",
    "    \"\"\"\n",
    "    # Базовые (абсолютные) значения\n",
    "    a0 = 6_800_000.0  # [м]\n",
    "    e0 = 0.0\n",
    "    w0 = 0.0\n",
    "    i0 = 0.0\n",
    "    raan0 = 0.0\n",
    "\n",
    "    dw = math.radians(dw_deg)\n",
    "\n",
    "    init_err = np.zeros((da_vals.size, de_vals.size), dtype=np.float64)\n",
    "    final_err = np.zeros_like(init_err)\n",
    "\n",
    "    for j, da in enumerate(da_vals):\n",
    "        for i, de in enumerate(de_vals):\n",
    "            oi = Kep(a=a0, e=e0, w=w0, i=i0, raan=raan0)\n",
    "            ot = Kep(a=a0 + float(da), e=e0 + float(de), w=dw, i=0.0, raan=0.0)\n",
    "\n",
    "            # Начальная ошибка\n",
    "            d0 = distance_orbit(oi, ot)\n",
    "\n",
    "            # Манёвры и исполнение (истинные элементы с ν=0)\n",
    "            mans = coplanar_analytical(oi, ot, mu)\n",
    "            of_true = execute(\n",
    "                oi=KepTrue(a=oi.a, e=oi.e, w=oi.w, i=oi.i, raan=oi.raan, nu=0.0),\n",
    "                maneuvers=mans,\n",
    "                mu=mu,\n",
    "            )\n",
    "            # Сравниваем геометрию (без ν)\n",
    "            of_kep = Kep(a=of_true.a, e=of_true.e, w=of_true.w, i=of_true.i, raan=of_true.raan)\n",
    "            d1 = distance_orbit(of_kep, ot)\n",
    "\n",
    "            init_err[j, i] = d0\n",
    "            final_err[j, i] = d1\n",
    "\n",
    "    return init_err, final_err"
   ],
   "id": "b92ee84308a2d9c1",
   "outputs": [],
   "execution_count": 35
  },
  {
   "metadata": {
    "ExecuteTime": {
     "end_time": "2025-09-30T16:11:44.565151Z",
     "start_time": "2025-09-30T16:11:41.393350Z"
    }
   },
   "cell_type": "code",
   "source": [
    "de_vals = np.linspace(0.0, 0.1, 41)  # Δe ∈ [0, 0.1]\n",
    "da_vals = np.linspace(0.0, 200_000.0, 41)  # Δa ∈ [0, 200 км] (м)\n",
    "DE, DA = np.meshgrid(de_vals, da_vals)\n",
    "\n",
    "dws = [0.0, 30.0, 60.0, 90.0]\n",
    "fig = plt.figure(figsize=(16, 12))\n",
    "\n",
    "# общая цветовая карта\n",
    "cmap = cm.viridis\n",
    "\n",
    "for k, dw in enumerate(dws, start=1):\n",
    "    init_err, final_err = build_surfaces_for_dw(dw, de_vals, da_vals)\n",
    "\n",
    "    # Один нормировщик на оба слоя, чтобы цвета были сопоставимы\n",
    "    z_min = min(init_err.min(), final_err.min())\n",
    "    z_max = max(init_err.max(), final_err.max())\n",
    "    norm = Normalize(vmin=z_min, vmax=z_max)\n",
    "\n",
    "    # Предварительно считаем цвета\n",
    "    colors0 = cmap(norm(init_err))\n",
    "    colors1 = cmap(norm(final_err))\n",
    "\n",
    "    ax = fig.add_subplot(2, 2, k, projection=\"3d\")\n",
    "    ax.set_title(f\"Δω = {int(dw)}°\")\n",
    "\n",
    "    # Две поверхности: начальная (почти непрозрачная), финальная (полупрозрачная)\n",
    "    surf0 = ax.plot_surface(DE, DA, init_err, rstride=1, cstride=1,\n",
    "                            facecolors=colors0, linewidth=0, antialiased=True, shade=False, alpha=0.95)\n",
    "    surf1 = ax.plot_surface(DE, DA, final_err, rstride=1, cstride=1,\n",
    "                            facecolors=colors1, linewidth=0, antialiased=True, shade=False, alpha=0.6)\n",
    "\n",
    "    ax.set_xlabel(\"Δe, [1]\")\n",
    "    ax.set_ylabel(\"Δa, [m]\")\n",
    "    ax.set_zlabel(\"distance, [m]\", labelpad=6)\n",
    "\n",
    "    # Добавим colorbar, привязав к нормировщику\n",
    "    mappable = cm.ScalarMappable(norm=norm, cmap=cmap)\n",
    "    mappable.set_array([])  # заглушка для colorbar\n",
    "    cbar = fig.colorbar(mappable, ax=ax, shrink=0.75, pad=0.05)\n",
    "    cbar.set_label(\"Орбитальная ошибка, [м]\")\n",
    "\n",
    "fig.tight_layout()\n",
    "plt.show()"
   ],
   "id": "1c323055990406aa",
   "outputs": [
    {
     "ename": "RuntimeError",
     "evalue": "Colorbar layout of new layout engine not compatible with old engine, and a colorbar has been created.  Engine not changed.",
     "output_type": "error",
     "traceback": [
      "\u001B[31m---------------------------------------------------------------------------\u001B[39m",
      "\u001B[31mRuntimeError\u001B[39m                              Traceback (most recent call last)",
      "\u001B[36mCell\u001B[39m\u001B[36m \u001B[39m\u001B[32mIn[39]\u001B[39m\u001B[32m, line 42\u001B[39m\n\u001B[32m     39\u001B[39m     cbar = fig.colorbar(mappable, ax=ax, shrink=\u001B[32m0.75\u001B[39m, pad=\u001B[32m0.05\u001B[39m)\n\u001B[32m     40\u001B[39m     cbar.set_label(\u001B[33m\"\u001B[39m\u001B[33mОрбитальная ошибка, [м]\u001B[39m\u001B[33m\"\u001B[39m)\n\u001B[32m---> \u001B[39m\u001B[32m42\u001B[39m \u001B[43mfig\u001B[49m\u001B[43m.\u001B[49m\u001B[43mtight_layout\u001B[49m\u001B[43m(\u001B[49m\u001B[43m)\u001B[49m\n\u001B[32m     43\u001B[39m plt.show()\n",
      "\u001B[36mFile \u001B[39m\u001B[32m~/maneuvering/.venv/lib/python3.12/site-packages/matplotlib/figure.py:3639\u001B[39m, in \u001B[36mFigure.tight_layout\u001B[39m\u001B[34m(self, pad, h_pad, w_pad, rect)\u001B[39m\n\u001B[32m   3637\u001B[39m \u001B[38;5;28;01mtry\u001B[39;00m:\n\u001B[32m   3638\u001B[39m     previous_engine = \u001B[38;5;28mself\u001B[39m.get_layout_engine()\n\u001B[32m-> \u001B[39m\u001B[32m3639\u001B[39m     \u001B[38;5;28;43mself\u001B[39;49m\u001B[43m.\u001B[49m\u001B[43mset_layout_engine\u001B[49m\u001B[43m(\u001B[49m\u001B[43mengine\u001B[49m\u001B[43m)\u001B[49m\n\u001B[32m   3640\u001B[39m     engine.execute(\u001B[38;5;28mself\u001B[39m)\n\u001B[32m   3641\u001B[39m     \u001B[38;5;28;01mif\u001B[39;00m previous_engine \u001B[38;5;129;01mis\u001B[39;00m \u001B[38;5;129;01mnot\u001B[39;00m \u001B[38;5;28;01mNone\u001B[39;00m \u001B[38;5;129;01mand\u001B[39;00m \u001B[38;5;129;01mnot\u001B[39;00m \u001B[38;5;28misinstance\u001B[39m(\n\u001B[32m   3642\u001B[39m         previous_engine, (TightLayoutEngine, PlaceHolderLayoutEngine)\n\u001B[32m   3643\u001B[39m     ):\n",
      "\u001B[36mFile \u001B[39m\u001B[32m~/maneuvering/.venv/lib/python3.12/site-packages/matplotlib/figure.py:2740\u001B[39m, in \u001B[36mFigure.set_layout_engine\u001B[39m\u001B[34m(self, layout, **kwargs)\u001B[39m\n\u001B[32m   2738\u001B[39m     \u001B[38;5;28mself\u001B[39m._layout_engine = new_layout_engine\n\u001B[32m   2739\u001B[39m \u001B[38;5;28;01melse\u001B[39;00m:\n\u001B[32m-> \u001B[39m\u001B[32m2740\u001B[39m     \u001B[38;5;28;01mraise\u001B[39;00m \u001B[38;5;167;01mRuntimeError\u001B[39;00m(\u001B[33m'\u001B[39m\u001B[33mColorbar layout of new layout engine not \u001B[39m\u001B[33m'\u001B[39m\n\u001B[32m   2741\u001B[39m                        \u001B[33m'\u001B[39m\u001B[33mcompatible with old engine, and a colorbar \u001B[39m\u001B[33m'\u001B[39m\n\u001B[32m   2742\u001B[39m                        \u001B[33m'\u001B[39m\u001B[33mhas been created.  Engine not changed.\u001B[39m\u001B[33m'\u001B[39m)\n",
      "\u001B[31mRuntimeError\u001B[39m: Colorbar layout of new layout engine not compatible with old engine, and a colorbar has been created.  Engine not changed."
     ]
    }
   ],
   "execution_count": 39
  },
  {
   "metadata": {
    "ExecuteTime": {
     "end_time": "2025-09-30T14:36:53.279084Z",
     "start_time": "2025-09-30T14:36:53.277354Z"
    }
   },
   "cell_type": "code",
   "source": "",
   "id": "39c31837669c97d0",
   "outputs": [],
   "execution_count": 45
  },
  {
   "metadata": {},
   "cell_type": "markdown",
   "source": "### Зависимости орбитальных элементов от абсолютного угла, пройденного КА, с активным маневрированием",
   "id": "6af211450d878853"
  },
  {
   "metadata": {
    "ExecuteTime": {
     "end_time": "2025-10-02T14:46:32.656636Z",
     "start_time": "2025-10-02T14:46:32.651558Z"
    }
   },
   "cell_type": "code",
   "source": [
    "def plot_transition_series(oi, ot, mu):\n",
    "    \"\"\"\n",
    "    1) Считает манёвры: mans = coplanar_analytical(oi, ot, mu)\n",
    "    2) Прогоняет: states, angles_abs = execute_batch(oi, mans, step, mu)\n",
    "       (step фиксируем внутри как 2π/720)\n",
    "    3) Строит 6 графиков (2×3): a, e, ω; i, Ω, ν.\n",
    "       Ось X — накопленный абсолютный угол u=ω+ν (радианы).\n",
    "    Возвращает: fig, axes, states, angles_abs\n",
    "    \"\"\"\n",
    "    # 1) Манёвры\n",
    "    mans = coplanar_analytical(oi, ot, mu)\n",
    "\n",
    "    # 2) Прогон (фиксированный шаг по u)\n",
    "    states, angles_abs = execute_batch(oi, mans, mu)\n",
    "\n",
    "    if not states:\n",
    "        raise ValueError(\"Пустой список состояний.\")\n",
    "\n",
    "    # 3) Достаём ряды\n",
    "    a = np.array([s.a for s in states], dtype=float)\n",
    "    e = np.array([s.e for s in states], dtype=float)\n",
    "    w = np.array([s.w for s in states], dtype=float)\n",
    "    inc = np.array([s.i for s in states], dtype=float)\n",
    "    Om = np.array([s.raan for s in states], dtype=float)\n",
    "    nu = np.array([s.nu for s in states], dtype=float)\n",
    "    x = np.asarray(angles_abs, dtype=float)  # уже в радианах\n",
    "\n",
    "    # Разворачиваем углы (чтобы не было скачков через 2π)\n",
    "    unwrap = lambda arr: np.unwrap(arr, discont=np.pi)\n",
    "    w_u, i_u, Om_u, nu_u = map(unwrap, (w, inc, Om, nu))\n",
    "\n",
    "    # Оформление\n",
    "    plt.rcParams.update({\n",
    "        \"figure.constrained_layout.use\": True,\n",
    "        \"axes.grid\": True,\n",
    "        \"font.size\": 11,\n",
    "        \"figure.figsize\": (12, 6),\n",
    "    })\n",
    "\n",
    "    fig, axes = plt.subplots(2, 3, sharex=True)\n",
    "    (ax_a, ax_e, ax_w), (ax_i, ax_Om, ax_nu) = axes\n",
    "\n",
    "    # Верхний ряд\n",
    "    ax_a.plot(x, a, lw=2)\n",
    "    ax_a.set_title(\"Большая полуось a, [м]\")\n",
    "\n",
    "    ax_e.plot(x, e, lw=2)\n",
    "    ax_e.set_title(\"Эксцентриситет e, [1]\")\n",
    "\n",
    "    ax_w.plot(x, w_u, lw=2)\n",
    "    ax_w.set_title(\"Аргумент перицентра ω, [рад]\")\n",
    "\n",
    "    # Нижний ряд\n",
    "    ax_i.plot(x, i_u, lw=2)\n",
    "    ax_i.set_title(\"Наклонение i, [рад]\")\n",
    "\n",
    "    ax_Om.plot(x, Om_u, lw=2)\n",
    "    ax_Om.set_title(\"Долгота восходящего узла Ω, [рад]\")\n",
    "\n",
    "    ax_nu.plot(x, nu_u, lw=2)\n",
    "    ax_nu.set_title(\"Истинная аномалия ν, [рад]\")\n",
    "\n",
    "    # Общая ось X\n",
    "    axes[1, 1].set_xlabel(\"Накопленный угол u = ω + ν, [рад]\")\n",
    "\n",
    "    for ax in axes.ravel():\n",
    "        ax.tick_params(axis='both', which='major', labelsize=10)\n",
    "\n",
    "    plt.show()"
   ],
   "id": "76d361fcb9bf68eb",
   "outputs": [],
   "execution_count": 4
  },
  {
   "metadata": {
    "ExecuteTime": {
     "end_time": "2025-10-02T14:46:33.786853Z",
     "start_time": "2025-10-02T14:46:33.680468Z"
    }
   },
   "cell_type": "code",
   "source": [
    "# 1) Пересекающиеся\n",
    "oi_int = KepTrue(a=6_700_000.0, e=0.00100, w=20.0 * deg, i=30.0 * deg, raan=30.0 * deg, nu=0.0)\n",
    "ot_int = Kep(a=6_700_500.0, e=0.00300, w=60.0 * deg, i=30.0 * deg, raan=30.0 * deg)\n",
    "plot_transition_series(oi_int, ot_int, mu)"
   ],
   "id": "ac6781d7f563f930",
   "outputs": [],
   "execution_count": 5
  },
  {
   "metadata": {
    "ExecuteTime": {
     "end_time": "2025-09-30T16:03:47.582120Z",
     "start_time": "2025-09-30T16:03:47.537880Z"
    }
   },
   "cell_type": "code",
   "source": [
    "# 2) Непересекающиеся\n",
    "oi_non = KepTrue(a=6_700_000.0, e=0.00100, w=20.0 * deg, i=30.0 * deg, raan=30.0 * deg, nu=0.0)\n",
    "ot_non = Kep(a=6_750_000.0, e=0.00120, w=30.0 * deg, i=30.0 * deg, raan=30.0 * deg)\n",
    "plot_transition_series(oi_non, ot_non, mu)"
   ],
   "id": "57256554b29cc69f",
   "outputs": [],
   "execution_count": 30
  },
  {
   "metadata": {
    "ExecuteTime": {
     "end_time": "2025-09-30T16:04:46.559699Z",
     "start_time": "2025-09-30T16:04:46.515206Z"
    }
   },
   "cell_type": "code",
   "source": [
    "# 3) Касающиеся (граница)\n",
    "oi_tan = KepTrue(a=6_700_000.0, e=0.00100, w=0.0 * deg, i=30.0 * deg, raan=30.0 * deg, nu=0.0)\n",
    "ot_tan = Kep(a=6_716_770.963704631, e=0.00150, w=180.0 * deg, i=30.0 * deg, raan=30.0 * deg)\n",
    "plot_transition_series(oi_tan, ot_tan, mu)"
   ],
   "id": "64ee40262aa8eb4",
   "outputs": [],
   "execution_count": 31
  },
  {
   "metadata": {},
   "cell_type": "markdown",
   "source": "### Зависимость хар. скорости от начального угла для случая непересекающихся орбит",
   "id": "9b7d46b411803b79"
  },
  {
   "metadata": {
    "ExecuteTime": {
     "end_time": "2025-09-30T14:36:54.097667Z",
     "start_time": "2025-09-30T14:36:54.062003Z"
    }
   },
   "cell_type": "code",
   "source": [
    "oi = Kep(a=6_566_000.0, e=0.00228, w=20 * deg, i=0.0, raan=130 * deg)\n",
    "ot = Kep(a=6_721_000.0, e=0.00149, w=150 * deg, i=0.0, raan=130 * deg)\n",
    "\n",
    "# Параметры задачи перехода\n",
    "devs = trans_devs(oi, ot)\n",
    "ref = reference_orbit(oi, ot, mu)  # ref.v — круговая скорость на опорной орбите\n",
    "\n",
    "# Сканируем угол первого импульса: ang1 ∈ [0, 2π)\n",
    "thetas = np.linspace(0.0, 2.0 * np.pi, 720, endpoint=False)\n",
    "dV = np.empty_like(thetas)\n",
    "\n",
    "for k, ang1 in enumerate(thetas):\n",
    "    try:\n",
    "        mans = coplanar_non_intersecting(devs, ang1=ang1)  # dv безразмерные (по v_ref)\n",
    "        # в непересекающемся случае импульсы чисто трансверсальные: берём y-компоненту\n",
    "        dvt_sum_abs = abs(mans[0].dv[1]) + abs(mans[1].dv[1])\n",
    "        dV[k] = ref.v * dvt_sum_abs\n",
    "    except ZeroDivisionError:\n",
    "        dV[k] = np.nan  # теоретически, когда знаменатель в формуле обнуляется\n",
    "\n",
    "# Эталон: ΔV = v_ref * |ΔA| / 2 (не зависит от угла)\n",
    "dV_ref = ref.v * abs(devs.a) / 2.0\n",
    "\n",
    "# График\n",
    "fig, ax = plt.subplots(figsize=(10, 7))\n",
    "ax.axhline(dV_ref, ls='--', color='C1', label=r'эталон $v_{\\rm ref}\\,|\\Delta A|/2$')\n",
    "ax.plot(thetas, dV, lw=2, color='C0', label=r'$\\Delta V(\\varphi_1)$ (расчёт)')\n",
    "\n",
    "ax.set_xlabel(r'$\\varphi_1$ (рад)', fontsize=22)  # угол первого импульса\n",
    "ax.set_ylabel(r'$\\Delta V$ (м/с)', fontsize=22)\n",
    "ax.set_title('Непересекающиеся орбиты: зависимость суммарной ΔV от угла первого импульса', fontsize=22)\n",
    "ax.tick_params(axis='both', which='major', labelsize=18)\n",
    "ax.grid(True, alpha=0.3)\n",
    "ax.legend(fontsize=22)\n",
    "plt.show()"
   ],
   "id": "4d058532b98640bf",
   "outputs": [],
   "execution_count": 46
  },
  {
   "metadata": {},
   "cell_type": "markdown",
   "source": "### Годограф базис-вектора",
   "id": "a0c63bd349e0b859"
  },
  {
   "metadata": {
    "ExecuteTime": {
     "end_time": "2025-09-30T14:36:58.357569Z",
     "start_time": "2025-09-30T14:36:58.353899Z"
    }
   },
   "cell_type": "code",
   "source": [
    "def primer_coeffs(m1: Maneuver, m2: Maneuver) -> tuple[Scalar, Scalar, Scalar]:\n",
    "    \"\"\"\n",
    "    Вычисляет коэффициенты базис-вектора для компланарного решения по двум манёврам.\n",
    "\n",
    "    Модель (линейная, базис-вектор):\n",
    "        λ(θ) = R · sin(θ − θ0)\n",
    "        μ(θ) = 2·λ1 + 2·R · cos(θ − θ0)\n",
    "\n",
    "    где\n",
    "        θ0  — угол первого импульса (истинная широта точки приложения), [рад];\n",
    "        s_k = sign(ΔV_tk), k=1,2  (берём знак тангенциальной компоненты импульса);\n",
    "        R   = (s1 - s2) / 2.0 / (1.0 - cos(theta2 - theta1)),\n",
    "        λ1  = s1 / 2 - R.\n",
    "\n",
    "    Параметры\n",
    "    ----------\n",
    "    m1, m2 : Maneuver\n",
    "        Два манёвра компланарного решения.\n",
    "\n",
    "    Возвращает\n",
    "    -------\n",
    "    (theta0, lam1, R) : tuple[Scalar, Scalar, Scalar]\n",
    "        θ0 — опорный угол; λ1 и R — коэффициенты в формулах λ(θ), μ(θ).\n",
    "    \"\"\"\n",
    "    theta1 = float(m1.angle)\n",
    "    theta2 = float(m2.angle)\n",
    "    s1 = 1.0 if float(m1.dv[1]) >= 0.0 else -1.0\n",
    "    s2 = 1.0 if float(m2.dv[1]) >= 0.0 else -1.0\n",
    "\n",
    "    # фиксируем фазу как θ0 = θ1\n",
    "    theta0 = theta1\n",
    "    dtheta = normalize_angle(theta2 - theta1)\n",
    "    cosd = math.cos(dtheta)\n",
    "\n",
    "    dvt1_abs = abs(float(m1.dv[1]))\n",
    "    dvt2_abs = abs(float(m2.dv[1]))\n",
    "\n",
    "    if abs(cosd - 1.0) < 1e-13 or dvt1_abs < 1e-13 or dvt2_abs < 1e-13:\n",
    "        # Это случай касающихся орбит. Он тут коряво обрабатывается\n",
    "        max_abs_dv = float(m1.dv[1]) if dvt1_abs >= dvt2_abs else float(m2.dv[1])\n",
    "        s = 1.0 if max_abs_dv >= 0.0 else -1.0\n",
    "        lam1 = s * 1.0 / 8.0\n",
    "        R = -(1.0 / 2.0 - abs(lam1))\n",
    "        return theta0, lam1, R\n",
    "    else:\n",
    "        R = (s1 - s2) / 2.0 / (1.0 - cosd)\n",
    "        lam1 = (s1 / 2.0) - R\n",
    "        return theta0, lam1, R"
   ],
   "id": "780daaf5ea01e0f8",
   "outputs": [],
   "execution_count": 47
  },
  {
   "metadata": {
    "ExecuteTime": {
     "end_time": "2025-09-30T14:36:58.949064Z",
     "start_time": "2025-09-30T14:36:58.946100Z"
    }
   },
   "cell_type": "code",
   "source": [
    "def primer_coplanar(m1: Maneuver, m2: Maneuver, step: Scalar = np.deg2rad(1.0)) -> tuple[\n",
    "    np.ndarray, np.ndarray, np.ndarray]:\n",
    "    \"\"\"\n",
    "    Строит зависимость компонент базис-вектора (λ, μ) от угла θ для компланарного решения.\n",
    "\n",
    "        λ(θ) = R · sin(θ − θ0)\n",
    "        μ(θ) = 2·λ1 + 2·R · cos(θ − θ0)\n",
    "\n",
    "    Параметры\n",
    "    ----------\n",
    "    m1, m2 : Maneuver\n",
    "        Два манёвра (как в coplanar_analytical): dv в орбитальной СК {r,t,n}, angle в радианах.\n",
    "        Используется только `angle` и `dv[1]` (тангенциальная компонента).\n",
    "    step : Scalar, optional\n",
    "        Шаг по углу θ (рад). По умолчанию 2π/720.\n",
    "\n",
    "    Возвращает\n",
    "    -------\n",
    "    theta, lam, mu : (np.ndarray, np.ndarray, np.ndarray)\n",
    "        Сетка углов θ ∈ [0, 2π], и соответствующие значения λ(θ), μ(θ).\n",
    "    \"\"\"\n",
    "    theta0, lam1, R = primer_coeffs(m1, m2)\n",
    "\n",
    "    # сетка углов [0, 2π] с включением правой границы\n",
    "    n = int(math.ceil((2.0 * math.pi) / step)) + 1\n",
    "    theta = np.linspace(0.0, 2.0 * math.pi, n, endpoint=True)\n",
    "\n",
    "    d = theta - theta0\n",
    "    lam = R * np.sin(d)\n",
    "    mu = 2.0 * lam1 + 2.0 * R * np.cos(d)\n",
    "\n",
    "    return theta, lam.astype(np.float64), mu.astype(np.float64)"
   ],
   "id": "becd218decf1e665",
   "outputs": [],
   "execution_count": 48
  },
  {
   "metadata": {
    "ExecuteTime": {
     "end_time": "2025-09-30T14:36:59.582202Z",
     "start_time": "2025-09-30T14:36:59.574202Z"
    }
   },
   "cell_type": "code",
   "source": [
    "def plot_primer(oi: Kep, ot: Kep, mu: float):\n",
    "    \"\"\"\n",
    "    Слева: ΔV-«стебли» и |p(θ)|; справа: годограф (μ по горизонтали, λ по вертикали)\n",
    "    с единичной окружностью и отметками точек импульсов.\n",
    "    \"\"\"\n",
    "    mans = coplanar_analytical(oi, ot, mu)\n",
    "    assert len(mans) == 2, \"Ожидались два импульса в компланарном решении.\"\n",
    "\n",
    "    # кривые базис-вектора\n",
    "    theta, lam, muv = primer_coplanar(mans[0], mans[1])  # lam=λ(θ), muv=μ(θ)\n",
    "    s_mag = np.sqrt(lam * lam + muv * muv)\n",
    "\n",
    "    # импульсы: углы и |ΔV_t|\n",
    "    impulses = [(float(mans[0].angle), float(mans[0].dv[1])),\n",
    "                (float(mans[1].angle), float(mans[1].dv[1]))]\n",
    "    th_imp = np.array([p for p, _ in impulses], dtype=float)\n",
    "    dv_imp = np.array([v for _, v in impulses], dtype=float)\n",
    "\n",
    "    # фигура и оси; у |p(θ)| та же горизонталь, что и у ΔV (sharex)\n",
    "    fig = plt.figure(figsize=(12, 6))\n",
    "    gs = fig.add_gridspec(2, 2, width_ratios=[2, 1], height_ratios=[1, 2],\n",
    "                          wspace=0.25, hspace=0.25)\n",
    "    ax1 = fig.add_subplot(gs[0, 0])  # ΔV\n",
    "    ax2 = fig.add_subplot(gs[1, 0], sharex=ax1)  # |p(θ)| (общая ось θ с ax1)\n",
    "    ax3 = fig.add_subplot(gs[:, 1])  # годограф (μ по X, λ по Y)\n",
    "\n",
    "    # === (1) ΔV-«стебли»\n",
    "    markerline, stemlines, _ = ax1.stem(th_imp, dv_imp, basefmt=\" \")\n",
    "    plt.setp(stemlines, linewidth=2)\n",
    "    plt.setp(markerline, markersize=6)\n",
    "    ax1.set_xlim(0.0, 2.0 * np.pi)  # согласуем диапазон θ\n",
    "    ax1.set_ylabel(\"ΔV (м/с)\", fontsize=22)\n",
    "    ax1.set_title(\"Хар. скорость\", fontsize=22)\n",
    "    ax1.tick_params(axis='both', which='major', labelsize=18)\n",
    "    ax1.grid(True, alpha=0.35)\n",
    "\n",
    "    # === (2) |p(θ)|\n",
    "    ax2.plot(theta, s_mag, lw=2)\n",
    "    ax2.axhline(1.0, color=\"k\", ls=\"--\", lw=2.0, alpha=0.8)\n",
    "    for th in th_imp:\n",
    "        ax2.axvline(th, color=\"r\", ls=\":\", lw=2.0, alpha=0.8)\n",
    "    ax2.set_ylim(0.0, max(1.2, float(s_mag.max()) * 1.05))\n",
    "    ax2.set_ylabel(\"|p(θ)|\", fontsize=22)\n",
    "    ax2.set_xlabel(\"θ (рад)\", fontsize=22)\n",
    "    ax2.set_title(\"Модуль базис-вектора\", fontsize=22)\n",
    "    ax2.tick_params(axis='both', which='major', labelsize=18)\n",
    "    ax2.grid(True, alpha=0.35)\n",
    "\n",
    "    # === (3) Годограф\n",
    "    ax3.plot(muv, lam, lw=2, label=\"p(θ)\")\n",
    "    ang = np.linspace(0, 2 * np.pi, 400)\n",
    "    ax3.plot(np.sin(ang), np.cos(ang), 'k--', lw=2, alpha=0.8, label=\"|p|=1\")  # (μ, λ)\n",
    "\n",
    "    # точки импульсов на годографе: восстановим координаты (λ, μ) и отрисуем как (μ, λ)\n",
    "    th1 = th_imp[0]\n",
    "    idx1 = int(np.argmin(np.abs(theta - th1)))\n",
    "    idx2 = int(np.argmin(np.abs(((theta - (th1 + np.pi)) + 2 * np.pi) % (2 * np.pi))))\n",
    "    # μ(th1)=2(λ1+R), μ(th1+π)=2(λ1−R) → оценки λ1 и R\n",
    "    mu1, mu2 = float(muv[idx1]), float(muv[idx2])\n",
    "    R_est, l1_est = 0.25 * (mu1 - mu2), 0.25 * (mu1 + mu2)\n",
    "\n",
    "    mult = -1\n",
    "\n",
    "    for th in th_imp:\n",
    "        d = th - th1\n",
    "        lam_pt = R_est * math.sin(d)\n",
    "        mu_pt = 2.0 * l1_est + 2.0 * R_est * math.cos(d)\n",
    "        ax3.plot(mu_pt, lam_pt, 'ro')  # (μ, λ)\n",
    "        mult *= -1\n",
    "        ax3.annotate(f\"θ={th:.2f}\", (mu_pt, lam_pt),\n",
    "                     textcoords=\"offset points\", xytext=(6, mult * 6),\n",
    "                     fontsize=14, color='r')\n",
    "\n",
    "    ax3.set_aspect('equal', 'box')\n",
    "    ax3.set_xlabel(\"μ (тангенциальная)\", fontsize=22)\n",
    "    ax3.set_ylabel(\"λ (радиальная)\", fontsize=22)\n",
    "    ax3.set_title(\"Годограф базис-вектора\", fontsize=22)\n",
    "    ax3.tick_params(axis='both', which='major', labelsize=18)\n",
    "    ax3.grid(True, alpha=0.35)\n",
    "    ax3.legend(loc=\"best\", fontsize=14, framealpha=0.6)\n",
    "\n",
    "    plt.show()"
   ],
   "id": "fd95626e00b90c1f",
   "outputs": [],
   "execution_count": 49
  },
  {
   "metadata": {
    "ExecuteTime": {
     "end_time": "2025-09-30T14:37:01.437068Z",
     "start_time": "2025-09-30T14:37:01.399296Z"
    }
   },
   "cell_type": "code",
   "source": [
    "# 1) Пересекающиеся\n",
    "oi_int = Kep(a=6_700_000.0, e=0.00100, w=20.0 * deg, i=0.0, raan=0.0)\n",
    "ot_int = Kep(a=6_700_500.0, e=0.00300, w=60.0 * deg, i=0.0, raan=0.0)\n",
    "plot_primer(oi_int, ot_int, mu)"
   ],
   "id": "dfc34b3ff010f021",
   "outputs": [],
   "execution_count": 50
  },
  {
   "metadata": {
    "ExecuteTime": {
     "end_time": "2025-09-30T14:37:04.832445Z",
     "start_time": "2025-09-30T14:37:04.797202Z"
    }
   },
   "cell_type": "code",
   "source": [
    "# 2) Непересекающиеся\n",
    "oi_non = Kep(a=6_700_000.0, e=0.00100, w=20.0 * deg, i=0.0, raan=0.0)\n",
    "ot_non = Kep(a=6_750_000.0, e=0.00120, w=30.0 * deg, i=0.0, raan=0.0)\n",
    "plot_primer(oi_non, ot_non, mu)"
   ],
   "id": "d20b60b6ba0747a5",
   "outputs": [],
   "execution_count": 51
  },
  {
   "metadata": {
    "ExecuteTime": {
     "end_time": "2025-09-30T14:37:07.115473Z",
     "start_time": "2025-09-30T14:37:07.079686Z"
    }
   },
   "cell_type": "code",
   "source": [
    "# 3) Касающиеся (граница)\n",
    "oi_tan = Kep(a=6_700_000.0, e=0.00100, w=0.0 * deg, i=0.0, raan=0.0)\n",
    "ot_tan = Kep(a=6_716_770.963704631, e=0.00150, w=180.0 * deg, i=0.0, raan=0.0)\n",
    "plot_primer(oi_tan, ot_tan, mu)"
   ],
   "id": "4a773ad896c6c26f",
   "outputs": [],
   "execution_count": 52
  },
  {
   "metadata": {
    "ExecuteTime": {
     "end_time": "2025-09-28T22:20:45.775499Z",
     "start_time": "2025-09-28T22:20:45.774182Z"
    }
   },
   "cell_type": "code",
   "source": "",
   "id": "e3a6b63059b1070a",
   "outputs": [],
   "execution_count": 1
  },
  {
   "metadata": {},
   "cell_type": "code",
   "outputs": [],
   "execution_count": null,
   "source": "",
   "id": "7138a3949c700ef9"
  }
 ],
 "metadata": {
  "kernelspec": {
   "display_name": "Python 3",
   "language": "python",
   "name": "python3"
  },
  "language_info": {
   "codemirror_mode": {
    "name": "ipython",
    "version": 2
   },
   "file_extension": ".py",
   "mimetype": "text/x-python",
   "name": "python",
   "nbconvert_exporter": "python",
   "pygments_lexer": "ipython2",
   "version": "2.7.6"
  }
 },
 "nbformat": 4,
 "nbformat_minor": 5
}
