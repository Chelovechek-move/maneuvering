{
 "cells": [
  {
   "metadata": {
    "ExecuteTime": {
     "end_time": "2025-10-02T20:34:55.384857Z",
     "start_time": "2025-10-02T20:34:55.382871Z"
    }
   },
   "cell_type": "code",
   "source": "# %matplotlib notebook",
   "id": "2e0cf04d0d5217c5",
   "outputs": [],
   "execution_count": 1
  },
  {
   "metadata": {
    "ExecuteTime": {
     "end_time": "2025-10-02T20:34:55.391723Z",
     "start_time": "2025-10-02T20:34:55.385609Z"
    }
   },
   "cell_type": "code",
   "source": "# %matplotlib qt",
   "id": "97caf05502b1e908",
   "outputs": [],
   "execution_count": 2
  },
  {
   "metadata": {
    "ExecuteTime": {
     "end_time": "2025-10-02T20:34:55.736001Z",
     "start_time": "2025-10-02T20:34:55.392268Z"
    }
   },
   "cell_type": "code",
   "source": [
    "from __future__ import annotations\n",
    "\n",
    "import math\n",
    "import numpy as np\n",
    "import matplotlib.pyplot as plt\n",
    "from matplotlib import cm\n",
    "from matplotlib.colors import Normalize\n",
    "from mpl_toolkits.mplot3d import Axes3D  # noqa: F401 (нужно для 3D)\n",
    "\n",
    "from maneuvering.types import Scalar\n",
    "from maneuvering.orbit.keplerian import Kep, KepTrue\n",
    "from maneuvering.orbit.distance import distance_orbit\n",
    "from maneuvering.maneuvers.quasi_circular.reference_orbit import trans_devs, reference_orbit\n",
    "from maneuvering.maneuvers.quasi_circular.transition.coplanar import coplanar_non_intersecting, coplanar_analytical\n",
    "from maneuvering.maneuvers.quasi_circular.transition.execute import execute, execute_batch\n",
    "from maneuvering.utils.math_tools import normalize_angle\n",
    "from maneuvering.maneuvers.maneuver import Maneuver"
   ],
   "id": "f2f331a6ee6841b5",
   "outputs": [
    {
     "ename": "SyntaxError",
     "evalue": "invalid syntax (coplanar.py, line 41)",
     "output_type": "error",
     "traceback": [
      "Traceback \u001B[36m(most recent call last)\u001B[39m:\n",
      "  File \u001B[92m~/maneuvering/.venv/lib/python3.12/site-packages/IPython/core/interactiveshell.py:3699\u001B[39m in \u001B[95mrun_code\u001B[39m\n    exec(code_obj, self.user_global_ns, self.user_ns)\n",
      "\u001B[36m  \u001B[39m\u001B[36mCell\u001B[39m\u001B[36m \u001B[39m\u001B[32mIn[3]\u001B[39m\u001B[32m, line 14\u001B[39m\n\u001B[31m    \u001B[39m\u001B[31mfrom maneuvering.maneuvers.quasi_circular.transition.coplanar import coplanar_non_intersecting, coplanar_analytical\u001B[39m\n",
      "  \u001B[36mFile \u001B[39m\u001B[32m~/maneuvering/src/maneuvering/maneuvers/quasi_circular/transition/coplanar.py:41\u001B[39m\n\u001B[31m    \u001B[39m\u001B[31mang1 = # СЮДА НАДО НАПИСАТЬ КОД ...\u001B[39m\n           ^\n\u001B[31mSyntaxError\u001B[39m\u001B[31m:\u001B[39m invalid syntax\n"
     ]
    }
   ],
   "execution_count": 3
  },
  {
   "metadata": {},
   "cell_type": "code",
   "source": [
    "deg = math.pi / 180.0\n",
    "mu = 3.9860044158e14"
   ],
   "id": "be69232c70b1386",
   "outputs": [],
   "execution_count": null
  },
  {
   "metadata": {},
   "cell_type": "markdown",
   "source": [
    "### Задание 2\n",
    "### Зависимость начальной и конечной ошибок от параметров задачи компланарного перехода"
   ],
   "id": "d5bbde0c8755eaf7"
  },
  {
   "metadata": {},
   "cell_type": "code",
   "source": [
    "def build_surfaces_for_dw(dw_deg: float, de_vals: np.ndarray, da_vals: np.ndarray) -> tuple[np.ndarray, np.ndarray]:\n",
    "    \"\"\"\n",
    "    Для фиксированного Δω (градусы) строит поверхности:\n",
    "      init_err[j,i]  = distance(oi, ot)\n",
    "      final_err[j,i] = distance(execute(oi, mans, μ), ot)\n",
    "    где:\n",
    "      oi = {a0, e0, w0=0, i0=0, Ω0=0},\n",
    "      ot = {a0 + Δa, e0 + Δe, w=Δω, i=0, Ω=0}.\n",
    "    Индексы: i — Δe, j — Δa.\n",
    "    \"\"\"\n",
    "    # Базовые (абсолютные) значения\n",
    "    a0 = 6_800_000.0  # [м]\n",
    "    e0 = 0.0\n",
    "    w0 = 0.0\n",
    "    i0 = 0.0\n",
    "    raan0 = 0.0\n",
    "\n",
    "    dw = math.radians(dw_deg)\n",
    "\n",
    "    init_err = np.zeros((da_vals.size, de_vals.size), dtype=np.float64)\n",
    "    final_err = np.zeros_like(init_err)\n",
    "\n",
    "    for j, da in enumerate(da_vals):\n",
    "        for i, de in enumerate(de_vals):\n",
    "            oi = Kep(a=a0, e=e0, w=w0, i=i0, raan=raan0)\n",
    "            ot = Kep(a=a0 + float(da), e=e0 + float(de), w=dw, i=0.0, raan=0.0)\n",
    "\n",
    "            # Начальная ошибка\n",
    "            d0 = distance_orbit(oi, ot)\n",
    "\n",
    "            # Манёвры и исполнение (истинные элементы с ν=0)\n",
    "            mans = coplanar_analytical(oi, ot, mu)\n",
    "            of_true = execute(\n",
    "                oi=KepTrue(a=oi.a, e=oi.e, w=oi.w, i=oi.i, raan=oi.raan, nu=0.0),\n",
    "                maneuvers=mans,\n",
    "                mu=mu,\n",
    "            )\n",
    "            # Сравниваем геометрию (без ν)\n",
    "            of_kep = Kep(a=of_true.a, e=of_true.e, w=of_true.w, i=of_true.i, raan=of_true.raan)\n",
    "            d1 = distance_orbit(of_kep, ot)\n",
    "\n",
    "            init_err[j, i] = d0\n",
    "            final_err[j, i] = d1\n",
    "\n",
    "    return init_err, final_err"
   ],
   "id": "b92ee84308a2d9c1",
   "outputs": [],
   "execution_count": null
  },
  {
   "metadata": {
    "ExecuteTime": {
     "end_time": "2025-10-02T20:34:56.105926Z",
     "start_time": "2025-10-02T20:34:55.975666Z"
    }
   },
   "cell_type": "code",
   "source": [
    "de_vals = np.linspace(0.0, 0.1, 41)  # Δe ∈ [0, 0.1]\n",
    "da_vals = np.linspace(0.0, 200_000.0, 41)  # Δa ∈ [0, 200 км] (м)\n",
    "DE, DA = np.meshgrid(de_vals, da_vals)\n",
    "\n",
    "dws = [0.0, 30.0, 60.0, 90.0]\n",
    "fig = plt.figure(figsize=(16, 12))\n",
    "\n",
    "# общая цветовая карта\n",
    "cmap = cm.viridis\n",
    "\n",
    "for k, dw in enumerate(dws, start=1):\n",
    "    init_err, final_err = build_surfaces_for_dw(dw, de_vals, da_vals)\n",
    "\n",
    "    # Один нормировщик на оба слоя, чтобы цвета были сопоставимы\n",
    "    z_min = min(init_err.min(), final_err.min())\n",
    "    z_max = max(init_err.max(), final_err.max())\n",
    "    norm = Normalize(vmin=z_min, vmax=z_max)\n",
    "\n",
    "    # Предварительно считаем цвета\n",
    "    colors0 = cmap(norm(init_err))\n",
    "    colors1 = cmap(norm(final_err))\n",
    "\n",
    "    ax = fig.add_subplot(2, 2, k, projection=\"3d\")\n",
    "    ax.set_title(f\"Δω = {int(dw)}°\")\n",
    "\n",
    "    # Две поверхности: начальная (почти непрозрачная), финальная (полупрозрачная)\n",
    "    surf0 = ax.plot_surface(DE, DA, init_err, rstride=1, cstride=1,\n",
    "                            facecolors=colors0, linewidth=0, antialiased=True, shade=False, alpha=0.95)\n",
    "    surf1 = ax.plot_surface(DE, DA, final_err, rstride=1, cstride=1,\n",
    "                            facecolors=colors1, linewidth=0, antialiased=True, shade=False, alpha=0.6)\n",
    "\n",
    "    ax.set_xlabel(\"Δe, [1]\")\n",
    "    ax.set_ylabel(\"Δa, [m]\")\n",
    "    ax.set_zlabel(\"distance, [m]\", labelpad=6)\n",
    "\n",
    "    # Добавим colorbar, привязав к нормировщику\n",
    "    mappable = cm.ScalarMappable(norm=norm, cmap=cmap)\n",
    "    mappable.set_array([])  # заглушка для colorbar\n",
    "    cbar = fig.colorbar(mappable, ax=ax, shrink=0.75, pad=0.05)\n",
    "    cbar.set_label(\"Орбитальная ошибка, [м]\")\n",
    "\n",
    "fig.tight_layout()\n",
    "plt.show()"
   ],
   "id": "1c323055990406aa",
   "outputs": [
    {
     "ename": "NameError",
     "evalue": "name 'build_surfaces_for_dw' is not defined",
     "output_type": "error",
     "traceback": [
      "\u001B[31m---------------------------------------------------------------------------\u001B[39m",
      "\u001B[31mNameError\u001B[39m                                 Traceback (most recent call last)",
      "\u001B[36mCell\u001B[39m\u001B[36m \u001B[39m\u001B[32mIn[4]\u001B[39m\u001B[32m, line 12\u001B[39m\n\u001B[32m      9\u001B[39m cmap = cm.viridis\n\u001B[32m     11\u001B[39m \u001B[38;5;28;01mfor\u001B[39;00m k, dw \u001B[38;5;129;01min\u001B[39;00m \u001B[38;5;28menumerate\u001B[39m(dws, start=\u001B[32m1\u001B[39m):\n\u001B[32m---> \u001B[39m\u001B[32m12\u001B[39m     init_err, final_err = \u001B[43mbuild_surfaces_for_dw\u001B[49m(dw, de_vals, da_vals)\n\u001B[32m     14\u001B[39m     \u001B[38;5;66;03m# Один нормировщик на оба слоя, чтобы цвета были сопоставимы\u001B[39;00m\n\u001B[32m     15\u001B[39m     z_min = \u001B[38;5;28mmin\u001B[39m(init_err.min(), final_err.min())\n",
      "\u001B[31mNameError\u001B[39m: name 'build_surfaces_for_dw' is not defined"
     ]
    },
    {
     "data": {
      "text/plain": [
       "<Figure size 1600x1200 with 0 Axes>"
      ]
     },
     "metadata": {},
     "output_type": "display_data"
    }
   ],
   "execution_count": 4
  },
  {
   "metadata": {
    "ExecuteTime": {
     "end_time": "2025-10-02T20:34:56.462923Z",
     "start_time": "2025-10-02T20:34:56.461592Z"
    }
   },
   "cell_type": "code",
   "source": "",
   "id": "39c31837669c97d0",
   "outputs": [],
   "execution_count": 4
  },
  {
   "metadata": {},
   "cell_type": "markdown",
   "source": [
    "### Задание 3\n",
    "### Зависимости орбитальных элементов от абсолютного угла, пройденного КА, с активным маневрированием"
   ],
   "id": "6af211450d878853"
  },
  {
   "metadata": {
    "ExecuteTime": {
     "end_time": "2025-10-02T20:34:57.948036Z",
     "start_time": "2025-10-02T20:34:57.943259Z"
    }
   },
   "cell_type": "code",
   "source": [
    "def plot_transition_series(oi, ot, mu):\n",
    "    \"\"\"\n",
    "    1) Считает манёвры: mans = coplanar_analytical(oi, ot, mu)\n",
    "    2) Прогоняет: states, angles_abs = execute_batch(oi, mans, step, mu)\n",
    "       (step фиксируем внутри как 2π/720)\n",
    "    3) Строит 6 графиков (2×3): a, e, ω; i, Ω, ν.\n",
    "       Ось X — накопленный абсолютный угол u=ω+ν (радианы).\n",
    "    Возвращает: fig, axes, states, angles_abs\n",
    "    \"\"\"\n",
    "    # 1) Манёвры\n",
    "    mans = coplanar_analytical(oi, ot, mu)\n",
    "\n",
    "    # 2) Прогон (фиксированный шаг по u)\n",
    "    states, angles_abs = execute_batch(oi, mans, mu)\n",
    "\n",
    "    if not states:\n",
    "        raise ValueError(\"Пустой список состояний.\")\n",
    "\n",
    "    # 3) Достаём ряды\n",
    "    a = np.array([s.a for s in states], dtype=float)\n",
    "    e = np.array([s.e for s in states], dtype=float)\n",
    "    w = np.array([s.w for s in states], dtype=float)\n",
    "    inc = np.array([s.i for s in states], dtype=float)\n",
    "    Om = np.array([s.raan for s in states], dtype=float)\n",
    "    nu = np.array([s.nu for s in states], dtype=float)\n",
    "    x = np.asarray(angles_abs, dtype=float)  # уже в радианах\n",
    "\n",
    "    # Разворачиваем углы (чтобы не было скачков через 2π)\n",
    "    unwrap = lambda arr: np.unwrap(arr, discont=np.pi)\n",
    "    w_u, i_u, Om_u, nu_u = map(unwrap, (w, inc, Om, nu))\n",
    "\n",
    "    # Оформление\n",
    "    plt.rcParams.update({\n",
    "        \"figure.constrained_layout.use\": True,\n",
    "        \"axes.grid\": True,\n",
    "        \"font.size\": 11,\n",
    "        \"figure.figsize\": (12, 6),\n",
    "    })\n",
    "\n",
    "    fig, axes = plt.subplots(2, 3, sharex=True)\n",
    "    (ax_a, ax_e, ax_w), (ax_i, ax_Om, ax_nu) = axes\n",
    "\n",
    "    # Верхний ряд\n",
    "    ax_a.plot(x, a, lw=2)\n",
    "    ax_a.set_title(\"Большая полуось a, [м]\")\n",
    "\n",
    "    ax_e.plot(x, e, lw=2)\n",
    "    ax_e.set_title(\"Эксцентриситет e, [1]\")\n",
    "\n",
    "    ax_w.plot(x, w_u, lw=2)\n",
    "    ax_w.set_title(\"Аргумент перицентра ω, [рад]\")\n",
    "\n",
    "    # Нижний ряд\n",
    "    ax_i.plot(x, i_u, lw=2)\n",
    "    ax_i.set_title(\"Наклонение i, [рад]\")\n",
    "\n",
    "    ax_Om.plot(x, Om_u, lw=2)\n",
    "    ax_Om.set_title(\"Долгота восходящего узла Ω, [рад]\")\n",
    "\n",
    "    ax_nu.plot(x, nu_u, lw=2)\n",
    "    ax_nu.set_title(\"Истинная аномалия ν, [рад]\")\n",
    "\n",
    "    # Общая ось X\n",
    "    axes[1, 1].set_xlabel(\"Накопленный угол u = ω + ν, [рад]\")\n",
    "\n",
    "    for ax in axes.ravel():\n",
    "        ax.tick_params(axis='both', which='major', labelsize=10)\n",
    "\n",
    "    plt.show()"
   ],
   "id": "76d361fcb9bf68eb",
   "outputs": [],
   "execution_count": 5
  },
  {
   "metadata": {
    "ExecuteTime": {
     "end_time": "2025-10-02T20:34:58.383656Z",
     "start_time": "2025-10-02T20:34:58.366895Z"
    }
   },
   "cell_type": "code",
   "source": [
    "# 1) Пересекающиеся\n",
    "oi_int = KepTrue(a=6_700_000.0, e=0.00100, w=20.0 * deg, i=30.0 * deg, raan=30.0 * deg, nu=0.0)\n",
    "ot_int = Kep(a=6_700_500.0, e=0.00300, w=60.0 * deg, i=30.0 * deg, raan=30.0 * deg)\n",
    "plot_transition_series(oi_int, ot_int, mu)"
   ],
   "id": "ac6781d7f563f930",
   "outputs": [
    {
     "ename": "NameError",
     "evalue": "name 'deg' is not defined",
     "output_type": "error",
     "traceback": [
      "\u001B[31m---------------------------------------------------------------------------\u001B[39m",
      "\u001B[31mNameError\u001B[39m                                 Traceback (most recent call last)",
      "\u001B[36mCell\u001B[39m\u001B[36m \u001B[39m\u001B[32mIn[6]\u001B[39m\u001B[32m, line 2\u001B[39m\n\u001B[32m      1\u001B[39m \u001B[38;5;66;03m# 1) Пересекающиеся\u001B[39;00m\n\u001B[32m----> \u001B[39m\u001B[32m2\u001B[39m oi_int = KepTrue(a=\u001B[32m6_700_000.0\u001B[39m, e=\u001B[32m0.00100\u001B[39m, w=\u001B[32m20.0\u001B[39m * \u001B[43mdeg\u001B[49m, i=\u001B[32m30.0\u001B[39m * deg, raan=\u001B[32m30.0\u001B[39m * deg, nu=\u001B[32m0.0\u001B[39m)\n\u001B[32m      3\u001B[39m ot_int = Kep(a=\u001B[32m6_700_500.0\u001B[39m, e=\u001B[32m0.00300\u001B[39m, w=\u001B[32m60.0\u001B[39m * deg, i=\u001B[32m30.0\u001B[39m * deg, raan=\u001B[32m30.0\u001B[39m * deg)\n\u001B[32m      4\u001B[39m plot_transition_series(oi_int, ot_int, mu)\n",
      "\u001B[31mNameError\u001B[39m: name 'deg' is not defined"
     ]
    }
   ],
   "execution_count": 6
  },
  {
   "metadata": {
    "ExecuteTime": {
     "end_time": "2025-10-02T20:34:58.867926Z",
     "start_time": "2025-10-02T20:34:58.850216Z"
    }
   },
   "cell_type": "code",
   "source": [
    "# 2) Непересекающиеся\n",
    "oi_non = KepTrue(a=6_700_000.0, e=0.00100, w=20.0 * deg, i=30.0 * deg, raan=30.0 * deg, nu=0.0)\n",
    "ot_non = Kep(a=6_750_000.0, e=0.00120, w=30.0 * deg, i=30.0 * deg, raan=30.0 * deg)\n",
    "plot_transition_series(oi_non, ot_non, mu)"
   ],
   "id": "57256554b29cc69f",
   "outputs": [
    {
     "ename": "NameError",
     "evalue": "name 'deg' is not defined",
     "output_type": "error",
     "traceback": [
      "\u001B[31m---------------------------------------------------------------------------\u001B[39m",
      "\u001B[31mNameError\u001B[39m                                 Traceback (most recent call last)",
      "\u001B[36mCell\u001B[39m\u001B[36m \u001B[39m\u001B[32mIn[7]\u001B[39m\u001B[32m, line 2\u001B[39m\n\u001B[32m      1\u001B[39m \u001B[38;5;66;03m# 2) Непересекающиеся\u001B[39;00m\n\u001B[32m----> \u001B[39m\u001B[32m2\u001B[39m oi_non = KepTrue(a=\u001B[32m6_700_000.0\u001B[39m, e=\u001B[32m0.00100\u001B[39m, w=\u001B[32m20.0\u001B[39m * \u001B[43mdeg\u001B[49m, i=\u001B[32m30.0\u001B[39m * deg, raan=\u001B[32m30.0\u001B[39m * deg, nu=\u001B[32m0.0\u001B[39m)\n\u001B[32m      3\u001B[39m ot_non = Kep(a=\u001B[32m6_750_000.0\u001B[39m, e=\u001B[32m0.00120\u001B[39m, w=\u001B[32m30.0\u001B[39m * deg, i=\u001B[32m30.0\u001B[39m * deg, raan=\u001B[32m30.0\u001B[39m * deg)\n\u001B[32m      4\u001B[39m plot_transition_series(oi_non, ot_non, mu)\n",
      "\u001B[31mNameError\u001B[39m: name 'deg' is not defined"
     ]
    }
   ],
   "execution_count": 7
  },
  {
   "metadata": {
    "ExecuteTime": {
     "end_time": "2025-10-02T20:34:59.319298Z",
     "start_time": "2025-10-02T20:34:59.303656Z"
    }
   },
   "cell_type": "code",
   "source": [
    "# 3) Касающиеся (граница)\n",
    "oi_tan = KepTrue(a=6_700_000.0, e=0.00100, w=0.0 * deg, i=30.0 * deg, raan=30.0 * deg, nu=0.0)\n",
    "ot_tan = Kep(a=6_716_770.963704631, e=0.00150, w=180.0 * deg, i=30.0 * deg, raan=30.0 * deg)\n",
    "plot_transition_series(oi_tan, ot_tan, mu)"
   ],
   "id": "64ee40262aa8eb4",
   "outputs": [
    {
     "ename": "NameError",
     "evalue": "name 'deg' is not defined",
     "output_type": "error",
     "traceback": [
      "\u001B[31m---------------------------------------------------------------------------\u001B[39m",
      "\u001B[31mNameError\u001B[39m                                 Traceback (most recent call last)",
      "\u001B[36mCell\u001B[39m\u001B[36m \u001B[39m\u001B[32mIn[8]\u001B[39m\u001B[32m, line 2\u001B[39m\n\u001B[32m      1\u001B[39m \u001B[38;5;66;03m# 3) Касающиеся (граница)\u001B[39;00m\n\u001B[32m----> \u001B[39m\u001B[32m2\u001B[39m oi_tan = KepTrue(a=\u001B[32m6_700_000.0\u001B[39m, e=\u001B[32m0.00100\u001B[39m, w=\u001B[32m0.0\u001B[39m * \u001B[43mdeg\u001B[49m, i=\u001B[32m30.0\u001B[39m * deg, raan=\u001B[32m30.0\u001B[39m * deg, nu=\u001B[32m0.0\u001B[39m)\n\u001B[32m      3\u001B[39m ot_tan = Kep(a=\u001B[32m6_716_770.963704631\u001B[39m, e=\u001B[32m0.00150\u001B[39m, w=\u001B[32m180.0\u001B[39m * deg, i=\u001B[32m30.0\u001B[39m * deg, raan=\u001B[32m30.0\u001B[39m * deg)\n\u001B[32m      4\u001B[39m plot_transition_series(oi_tan, ot_tan, mu)\n",
      "\u001B[31mNameError\u001B[39m: name 'deg' is not defined"
     ]
    }
   ],
   "execution_count": 8
  },
  {
   "metadata": {
    "ExecuteTime": {
     "end_time": "2025-10-02T20:34:59.920521Z",
     "start_time": "2025-10-02T20:34:59.918650Z"
    }
   },
   "cell_type": "code",
   "source": "",
   "id": "12a9ae195a9325e8",
   "outputs": [],
   "execution_count": 8
  },
  {
   "metadata": {},
   "cell_type": "code",
   "outputs": [],
   "execution_count": null,
   "source": "",
   "id": "ed9ede7f70b07de7"
  }
 ],
 "metadata": {
  "kernelspec": {
   "display_name": "Python 3",
   "language": "python",
   "name": "python3"
  },
  "language_info": {
   "codemirror_mode": {
    "name": "ipython",
    "version": 2
   },
   "file_extension": ".py",
   "mimetype": "text/x-python",
   "name": "python",
   "nbconvert_exporter": "python",
   "pygments_lexer": "ipython2",
   "version": "2.7.6"
  }
 },
 "nbformat": 4,
 "nbformat_minor": 5
}
